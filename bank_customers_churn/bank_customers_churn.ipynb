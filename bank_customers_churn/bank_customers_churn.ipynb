{
 "cells": [
  {
   "cell_type": "markdown",
   "metadata": {},
   "source": [
    "# Bank customers churn"
   ]
  },
  {
   "cell_type": "markdown",
   "metadata": {},
   "source": [
    "Clients started leaving Bank. Every month. Bank marketers said it was cheaper to retain current customers than to attract new ones.\n",
    "\n",
    "We need to build the model which predict: the client will leave the bank in the near future or not. We have historical data on customer behavior and termination of agreements with the bank.\n",
    "\n",
    "Build the model with the highest possible *F1* (min 0.59).\n",
    "Use *AUC-ROC* and compare it with *F1*.\n"
   ]
  },
  {
   "cell_type": "code",
   "execution_count": 1,
   "metadata": {},
   "outputs": [],
   "source": [
    "#library import\n",
    "import pandas as pd\n",
    "from sklearn.tree import DecisionTreeClassifier\n",
    "from joblib import dump\n",
    "from sklearn.ensemble import RandomForestClassifier\n",
    "from sklearn.model_selection import train_test_split\n",
    "from sklearn.metrics import roc_curve, mean_squared_error,mean_absolute_error, accuracy_score,r2_score, confusion_matrix, recall_score,roc_auc_score, precision_score, f1_score\n",
    "import numpy as np\n",
    "from sklearn.preprocessing import StandardScaler\n",
    "from sklearn.linear_model import LogisticRegression\n",
    "from sklearn.utils import shuffle"
   ]
  },
  {
   "cell_type": "markdown",
   "metadata": {},
   "source": [
    "# 1. About data"
   ]
  },
  {
   "cell_type": "code",
   "execution_count": 2,
   "metadata": {},
   "outputs": [
    {
     "data": {
      "text/html": [
       "<div>\n",
       "<style scoped>\n",
       "    .dataframe tbody tr th:only-of-type {\n",
       "        vertical-align: middle;\n",
       "    }\n",
       "\n",
       "    .dataframe tbody tr th {\n",
       "        vertical-align: top;\n",
       "    }\n",
       "\n",
       "    .dataframe thead th {\n",
       "        text-align: right;\n",
       "    }\n",
       "</style>\n",
       "<table border=\"1\" class=\"dataframe\">\n",
       "  <thead>\n",
       "    <tr style=\"text-align: right;\">\n",
       "      <th></th>\n",
       "      <th>RowNumber</th>\n",
       "      <th>CustomerId</th>\n",
       "      <th>Surname</th>\n",
       "      <th>CreditScore</th>\n",
       "      <th>Geography</th>\n",
       "      <th>Gender</th>\n",
       "      <th>Age</th>\n",
       "      <th>Tenure</th>\n",
       "      <th>Balance</th>\n",
       "      <th>NumOfProducts</th>\n",
       "      <th>HasCrCard</th>\n",
       "      <th>IsActiveMember</th>\n",
       "      <th>EstimatedSalary</th>\n",
       "      <th>Exited</th>\n",
       "    </tr>\n",
       "  </thead>\n",
       "  <tbody>\n",
       "    <tr>\n",
       "      <th>0</th>\n",
       "      <td>1</td>\n",
       "      <td>15634602</td>\n",
       "      <td>Hargrave</td>\n",
       "      <td>619</td>\n",
       "      <td>France</td>\n",
       "      <td>Female</td>\n",
       "      <td>42</td>\n",
       "      <td>2.0</td>\n",
       "      <td>0.00</td>\n",
       "      <td>1</td>\n",
       "      <td>1</td>\n",
       "      <td>1</td>\n",
       "      <td>101348.88</td>\n",
       "      <td>1</td>\n",
       "    </tr>\n",
       "    <tr>\n",
       "      <th>1</th>\n",
       "      <td>2</td>\n",
       "      <td>15647311</td>\n",
       "      <td>Hill</td>\n",
       "      <td>608</td>\n",
       "      <td>Spain</td>\n",
       "      <td>Female</td>\n",
       "      <td>41</td>\n",
       "      <td>1.0</td>\n",
       "      <td>83807.86</td>\n",
       "      <td>1</td>\n",
       "      <td>0</td>\n",
       "      <td>1</td>\n",
       "      <td>112542.58</td>\n",
       "      <td>0</td>\n",
       "    </tr>\n",
       "    <tr>\n",
       "      <th>2</th>\n",
       "      <td>3</td>\n",
       "      <td>15619304</td>\n",
       "      <td>Onio</td>\n",
       "      <td>502</td>\n",
       "      <td>France</td>\n",
       "      <td>Female</td>\n",
       "      <td>42</td>\n",
       "      <td>8.0</td>\n",
       "      <td>159660.80</td>\n",
       "      <td>3</td>\n",
       "      <td>1</td>\n",
       "      <td>0</td>\n",
       "      <td>113931.57</td>\n",
       "      <td>1</td>\n",
       "    </tr>\n",
       "    <tr>\n",
       "      <th>3</th>\n",
       "      <td>4</td>\n",
       "      <td>15701354</td>\n",
       "      <td>Boni</td>\n",
       "      <td>699</td>\n",
       "      <td>France</td>\n",
       "      <td>Female</td>\n",
       "      <td>39</td>\n",
       "      <td>1.0</td>\n",
       "      <td>0.00</td>\n",
       "      <td>2</td>\n",
       "      <td>0</td>\n",
       "      <td>0</td>\n",
       "      <td>93826.63</td>\n",
       "      <td>0</td>\n",
       "    </tr>\n",
       "    <tr>\n",
       "      <th>4</th>\n",
       "      <td>5</td>\n",
       "      <td>15737888</td>\n",
       "      <td>Mitchell</td>\n",
       "      <td>850</td>\n",
       "      <td>Spain</td>\n",
       "      <td>Female</td>\n",
       "      <td>43</td>\n",
       "      <td>2.0</td>\n",
       "      <td>125510.82</td>\n",
       "      <td>1</td>\n",
       "      <td>1</td>\n",
       "      <td>1</td>\n",
       "      <td>79084.10</td>\n",
       "      <td>0</td>\n",
       "    </tr>\n",
       "  </tbody>\n",
       "</table>\n",
       "</div>"
      ],
      "text/plain": [
       "   RowNumber  CustomerId   Surname  CreditScore Geography  Gender  Age  \\\n",
       "0          1    15634602  Hargrave          619    France  Female   42   \n",
       "1          2    15647311      Hill          608     Spain  Female   41   \n",
       "2          3    15619304      Onio          502    France  Female   42   \n",
       "3          4    15701354      Boni          699    France  Female   39   \n",
       "4          5    15737888  Mitchell          850     Spain  Female   43   \n",
       "\n",
       "   Tenure    Balance  NumOfProducts  HasCrCard  IsActiveMember  \\\n",
       "0     2.0       0.00              1          1               1   \n",
       "1     1.0   83807.86              1          0               1   \n",
       "2     8.0  159660.80              3          1               0   \n",
       "3     1.0       0.00              2          0               0   \n",
       "4     2.0  125510.82              1          1               1   \n",
       "\n",
       "   EstimatedSalary  Exited  \n",
       "0        101348.88       1  \n",
       "1        112542.58       0  \n",
       "2        113931.57       1  \n",
       "3         93826.63       0  \n",
       "4         79084.10       0  "
      ]
     },
     "metadata": {},
     "output_type": "display_data"
    }
   ],
   "source": [
    "#check data\n",
    "churn_data = pd.read_csv('Churn.csv')\n",
    "display(churn_data.head())"
   ]
  },
  {
   "cell_type": "code",
   "execution_count": 3,
   "metadata": {
    "scrolled": true
   },
   "outputs": [
    {
     "name": "stdout",
     "output_type": "stream",
     "text": [
      "<class 'pandas.core.frame.DataFrame'>\n",
      "RangeIndex: 10000 entries, 0 to 9999\n",
      "Data columns (total 14 columns):\n",
      " #   Column           Non-Null Count  Dtype  \n",
      "---  ------           --------------  -----  \n",
      " 0   RowNumber        10000 non-null  int64  \n",
      " 1   CustomerId       10000 non-null  int64  \n",
      " 2   Surname          10000 non-null  object \n",
      " 3   CreditScore      10000 non-null  int64  \n",
      " 4   Geography        10000 non-null  object \n",
      " 5   Gender           10000 non-null  object \n",
      " 6   Age              10000 non-null  int64  \n",
      " 7   Tenure           9091 non-null   float64\n",
      " 8   Balance          10000 non-null  float64\n",
      " 9   NumOfProducts    10000 non-null  int64  \n",
      " 10  HasCrCard        10000 non-null  int64  \n",
      " 11  IsActiveMember   10000 non-null  int64  \n",
      " 12  EstimatedSalary  10000 non-null  float64\n",
      " 13  Exited           10000 non-null  int64  \n",
      "dtypes: float64(3), int64(8), object(3)\n",
      "memory usage: 1.1+ MB\n"
     ]
    }
   ],
   "source": [
    "churn_data.info()"
   ]
  },
  {
   "cell_type": "markdown",
   "metadata": {},
   "source": [
    "10000 entries and 14 columns.\n",
    "\n",
    "Feauters:\n",
    "\n",
    "    RowNumber — index\n",
    "    CustomerId — id\n",
    "    Surname — surname\n",
    "    CreditScore — credit score\n",
    "    Geography — country of residence\n",
    "    Gender — gender\n",
    "    Age — age\n",
    "    Tenure — number of property\n",
    "    Balance — money balance\n",
    "    NumOfProducts — number of using bank products\n",
    "    HasCrCard — has credit card or not\n",
    "    IsActiveMember — active client or not\n",
    "    EstimatedSalary — estimated salary\n",
    "\n",
    "Target:\n",
    "\n",
    "    Exited — leave or not\n",
    "    \n",
    "We should do str.lower for columns name, change some columns types, delete wrong column and check nulls.\n",
    "   "
   ]
  },
  {
   "cell_type": "code",
   "execution_count": 4,
   "metadata": {},
   "outputs": [
    {
     "data": {
      "text/plain": [
       "rownumber            0\n",
       "customerid           0\n",
       "surname              0\n",
       "creditscore          0\n",
       "geography            0\n",
       "gender               0\n",
       "age                  0\n",
       "tenure             909\n",
       "balance              0\n",
       "numofproducts        0\n",
       "hascrcard            0\n",
       "isactivemember       0\n",
       "estimatedsalary      0\n",
       "exited               0\n",
       "dtype: int64"
      ]
     },
     "execution_count": 4,
     "metadata": {},
     "output_type": "execute_result"
    }
   ],
   "source": [
    "#str.lower\n",
    "churn_data.columns = churn_data.columns.str.lower()\n",
    "\n",
    "#check nulls\n",
    "churn_data.isnull().sum()"
   ]
  },
  {
   "cell_type": "code",
   "execution_count": 5,
   "metadata": {},
   "outputs": [
    {
     "data": {
      "text/plain": [
       "rownumber          0\n",
       "customerid         0\n",
       "surname            0\n",
       "creditscore        0\n",
       "geography          0\n",
       "gender             0\n",
       "age                0\n",
       "tenure             0\n",
       "balance            0\n",
       "numofproducts      0\n",
       "hascrcard          0\n",
       "isactivemember     0\n",
       "estimatedsalary    0\n",
       "exited             0\n",
       "dtype: int64"
      ]
     },
     "execution_count": 5,
     "metadata": {},
     "output_type": "execute_result"
    }
   ],
   "source": [
    "#change column type и fill 0\n",
    "churn_data['tenure'] = churn_data['tenure'].fillna(0).astype('int')\n",
    "churn_data.isnull().sum()"
   ]
  },
  {
   "cell_type": "code",
   "execution_count": 6,
   "metadata": {},
   "outputs": [
    {
     "name": "stdout",
     "output_type": "stream",
     "text": [
      "<class 'pandas.core.frame.DataFrame'>\n",
      "RangeIndex: 10000 entries, 0 to 9999\n",
      "Data columns (total 12 columns):\n",
      " #   Column           Non-Null Count  Dtype  \n",
      "---  ------           --------------  -----  \n",
      " 0   customerid       10000 non-null  int64  \n",
      " 1   creditscore      10000 non-null  int64  \n",
      " 2   geography        10000 non-null  object \n",
      " 3   gender           10000 non-null  object \n",
      " 4   age              10000 non-null  int64  \n",
      " 5   tenure           10000 non-null  int32  \n",
      " 6   balance          10000 non-null  float64\n",
      " 7   numofproducts    10000 non-null  int64  \n",
      " 8   hascrcard        10000 non-null  int64  \n",
      " 9   isactivemember   10000 non-null  int64  \n",
      " 10  estimatedsalary  10000 non-null  float64\n",
      " 11  exited           10000 non-null  int64  \n",
      "dtypes: float64(2), int32(1), int64(7), object(2)\n",
      "memory usage: 898.6+ KB\n"
     ]
    }
   ],
   "source": [
    "#delete columns\n",
    "del churn_data['rownumber']\n",
    "del churn_data['surname']\n",
    "churn_data.info()"
   ]
  },
  {
   "cell_type": "code",
   "execution_count": 7,
   "metadata": {},
   "outputs": [
    {
     "data": {
      "text/plain": [
       "0"
      ]
     },
     "execution_count": 7,
     "metadata": {},
     "output_type": "execute_result"
    }
   ],
   "source": [
    "#check duplicates\n",
    "churn_data.duplicated().sum()"
   ]
  },
  {
   "cell_type": "markdown",
   "metadata": {},
   "source": [
    "#### Сonclusion\n",
    "\n",
    "So, now we have 10000 entries and 12 columns without nulls.\n",
    "\n",
    "We delete rownumber, because we have standart index and id.\n",
    "\n",
    "Tenure in dictionary mean \"type of property\", but here it is \"how many property customer has\". We canot check true or false it is.\n",
    "May be, we can fill nulls for median, but 0 is better, because we hevan't more data.\n",
    "\n",
    "Also we don't need surname column."
   ]
  },
  {
   "cell_type": "markdown",
   "metadata": {},
   "source": [
    "# 2. Research"
   ]
  },
  {
   "cell_type": "code",
   "execution_count": 8,
   "metadata": {},
   "outputs": [
    {
     "name": "stdout",
     "output_type": "stream",
     "text": [
      "<class 'pandas.core.frame.DataFrame'>\n",
      "RangeIndex: 10000 entries, 0 to 9999\n",
      "Data columns (total 13 columns):\n",
      " #   Column             Non-Null Count  Dtype  \n",
      "---  ------             --------------  -----  \n",
      " 0   customerid         10000 non-null  int64  \n",
      " 1   creditscore        10000 non-null  int64  \n",
      " 2   age                10000 non-null  int64  \n",
      " 3   tenure             10000 non-null  int32  \n",
      " 4   balance            10000 non-null  float64\n",
      " 5   numofproducts      10000 non-null  int64  \n",
      " 6   hascrcard          10000 non-null  int64  \n",
      " 7   isactivemember     10000 non-null  int64  \n",
      " 8   estimatedsalary    10000 non-null  float64\n",
      " 9   exited             10000 non-null  int64  \n",
      " 10  geography_Germany  10000 non-null  uint8  \n",
      " 11  geography_Spain    10000 non-null  uint8  \n",
      " 12  gender_Male        10000 non-null  uint8  \n",
      "dtypes: float64(2), int32(1), int64(7), uint8(3)\n",
      "memory usage: 771.6 KB\n"
     ]
    }
   ],
   "source": [
    "#get_dummies\n",
    "bank_data = pd.get_dummies(churn_data, drop_first=True)\n",
    "bank_data.info()"
   ]
  },
  {
   "cell_type": "code",
   "execution_count": 9,
   "metadata": {},
   "outputs": [
    {
     "data": {
      "text/plain": [
       "(10000, 11)"
      ]
     },
     "metadata": {},
     "output_type": "display_data"
    }
   ],
   "source": [
    "#features&target\n",
    "features = bank_data.drop(['exited', 'customerid'], axis=1)\n",
    "target = bank_data['exited']\n",
    "\n",
    "#to numeric\n",
    "numeric = ['tenure','age','creditscore', 'balance', 'estimatedsalary']\n",
    "\n",
    "scaler = StandardScaler()\n",
    "scaler.fit(features[numeric])\n",
    "features[numeric] = scaler.transform(features[numeric])\n",
    "display(features.shape)"
   ]
  },
  {
   "cell_type": "code",
   "execution_count": 10,
   "metadata": {},
   "outputs": [
    {
     "data": {
      "text/plain": [
       "['tenure', 'age', 'creditscore', 'balance', 'estimatedsalary']"
      ]
     },
     "execution_count": 10,
     "metadata": {},
     "output_type": "execute_result"
    }
   ],
   "source": [
    "numeric"
   ]
  },
  {
   "cell_type": "code",
   "execution_count": 11,
   "metadata": {},
   "outputs": [
    {
     "name": "stdout",
     "output_type": "stream",
     "text": [
      "(6000, 11)\n",
      "(2000, 11)\n",
      "(2000, 11)\n"
     ]
    }
   ],
   "source": [
    "#for two\n",
    "features_train_valid, features_test, target_train_valid, target_test = train_test_split(\n",
    "    features, target, test_size=0.20, random_state=12345)\n",
    "\n",
    "#and three\n",
    "features_train, features_valid, target_train, target_valid = train_test_split(\n",
    "    features_train_valid, target_train_valid, test_size=0.250, random_state=12345)\n",
    "\n",
    "print(features_train.shape)\n",
    "print(features_valid.shape)\n",
    "print(features_test.shape)"
   ]
  },
  {
   "cell_type": "code",
   "execution_count": 12,
   "metadata": {},
   "outputs": [
    {
     "data": {
      "text/plain": [
       "0.7963"
      ]
     },
     "metadata": {},
     "output_type": "display_data"
    }
   ],
   "source": [
    "#check accuracy\n",
    "target_pred_constant = pd.Series(0, index=target.index)\n",
    "display(accuracy_score(target, target_pred_constant))"
   ]
  },
  {
   "cell_type": "markdown",
   "metadata": {},
   "source": [
    "#### Сonclusion\n",
    "\n",
    "We have train, valid ad test.\n",
    "\n",
    "Do get_dummies and numeric.\n",
    "\n",
    "Accuracy is 0.80 - very good."
   ]
  },
  {
   "cell_type": "code",
   "execution_count": 13,
   "metadata": {
    "scrolled": true
   },
   "outputs": [
    {
     "name": "stdout",
     "output_type": "stream",
     "text": [
      "max_depth = 1 : 0.8045\n",
      "max_depth = 2 : 0.8325\n",
      "max_depth = 3 : 0.844\n",
      "max_depth = 4 : 0.854\n",
      "max_depth = 5 : 0.865\n",
      "max_depth = 6 : 0.8765\n",
      "max_depth = 7 : 0.897\n",
      "max_depth = 8 : 0.912\n",
      "max_depth = 9 : 0.934\n",
      "max_depth = 10 : 0.953\n"
     ]
    }
   ],
   "source": [
    "#depth params Decision Tree Classifier\n",
    "for depth in range(1, 11):\n",
    "    model =  DecisionTreeClassifier(random_state=12345, max_depth=depth)\n",
    "    model.fit(features_valid, target_valid)\n",
    "    predictions_valid = model.predict(features_valid)\n",
    "    print(\"max_depth =\", depth, \": \", end='')\n",
    "    print(accuracy_score(target_valid, predictions_valid))   "
   ]
  },
  {
   "cell_type": "markdown",
   "metadata": {},
   "source": [
    "***I think here max_depth = 5 is enough***"
   ]
  },
  {
   "cell_type": "code",
   "execution_count": 14,
   "metadata": {
    "scrolled": false
   },
   "outputs": [
    {
     "name": "stdout",
     "output_type": "stream",
     "text": [
      "max_est = 1 : 0.9255\n",
      "max_est = 2 : 0.9315\n",
      "max_est = 3 : 0.964\n",
      "max_est = 4 : 0.9555\n",
      "max_est = 5 : 0.98\n",
      "max_est = 6 : 0.969\n",
      "max_est = 7 : 0.985\n",
      "max_est = 8 : 0.979\n",
      "max_est = 9 : 0.991\n",
      "max_est = 10 : 0.9815\n"
     ]
    }
   ],
   "source": [
    "#n_estimators params Random Forest Classifier\n",
    "for est in range(1, 11):\n",
    "    model =  RandomForestClassifier(random_state=12345, n_estimators = est)\n",
    "    model.fit(features_valid, target_valid)\n",
    "    predictions_valid = model.predict(features_valid)\n",
    "    print(\"max_est =\", est, \": \", end='')\n",
    "    print(accuracy_score(target_valid, predictions_valid))"
   ]
  },
  {
   "cell_type": "markdown",
   "metadata": {},
   "source": [
    "***5 is enough too.***"
   ]
  },
  {
   "cell_type": "code",
   "execution_count": 15,
   "metadata": {},
   "outputs": [
    {
     "name": "stdout",
     "output_type": "stream",
     "text": [
      "Accuracy\n",
      "Decision Tree Classifier: 0.785\n",
      "Logistic Regression: 0.8155\n",
      "Random Forest Classifier: 0.8615\n"
     ]
    }
   ],
   "source": [
    "print(\"Accuracy\")\n",
    "\n",
    "#check accuracy, Decision Tree Classifier\n",
    "model = DecisionTreeClassifier(random_state=12345, max_depth=21)\n",
    "model.fit(features_train, target_train)\n",
    "predicted_valid =  model.predict(features_valid)\n",
    "accuracy_valid = accuracy_score(target_valid, predicted_valid)\n",
    "print(\"Decision Tree Classifier:\",accuracy_valid)\n",
    "\n",
    "#check accuracy, Logistic Regression \n",
    "model = LogisticRegression(random_state=12345, solver='liblinear')\n",
    "model.fit(features_train, target_train)\n",
    "predicted_valid = model.predict(features_valid)\n",
    "accuracy_valid = accuracy_score(target_valid, predicted_valid)\n",
    "print(\"Logistic Regression:\",accuracy_valid)\n",
    "\n",
    "#check accuracy, Random Forest Classifier\n",
    "model = RandomForestClassifier(random_state=12345, n_estimators = 21)\n",
    "model.fit(features_train, target_train)\n",
    "predicted_valid = model.predict(features_valid)\n",
    "accuracy_valid = accuracy_score(target_valid, predicted_valid)\n",
    "print(\"Random Forest Classifier:\", accuracy_valid)"
   ]
  },
  {
   "cell_type": "markdown",
   "metadata": {},
   "source": [
    "***Random Forest Classifier win. Logistic Regression is second.***"
   ]
  },
  {
   "cell_type": "code",
   "execution_count": 16,
   "metadata": {},
   "outputs": [
    {
     "data": {
      "text/plain": [
       "'confusion matrix, Decision Tree Classifier:'"
      ]
     },
     "metadata": {},
     "output_type": "display_data"
    },
    {
     "data": {
      "text/plain": [
       "array([[1383,  226],\n",
       "       [ 204,  187]], dtype=int64)"
      ]
     },
     "metadata": {},
     "output_type": "display_data"
    },
    {
     "data": {
      "text/plain": [
       "'confusion matrix, Logistic Regression:'"
      ]
     },
     "metadata": {},
     "output_type": "display_data"
    },
    {
     "data": {
      "text/plain": [
       "array([[1550,   59],\n",
       "       [ 310,   81]], dtype=int64)"
      ]
     },
     "metadata": {},
     "output_type": "display_data"
    },
    {
     "data": {
      "text/plain": [
       "'confusion matrix, Random Forest Classifier:'"
      ]
     },
     "metadata": {},
     "output_type": "display_data"
    },
    {
     "data": {
      "text/plain": [
       "array([[1539,   70],\n",
       "       [ 207,  184]], dtype=int64)"
      ]
     },
     "metadata": {},
     "output_type": "display_data"
    }
   ],
   "source": [
    "#confusion matrix, Decision Tree Classifier\n",
    "model = DecisionTreeClassifier(random_state=12345, max_depth=21)\n",
    "model.fit(features_train, target_train)\n",
    "predicted_valid = model.predict(features_valid)\n",
    "display(\"confusion matrix, Decision Tree Classifier:\", confusion_matrix(target_valid, predicted_valid))\n",
    "\n",
    "#confusion matrix, Logistic Regression \n",
    "model = LogisticRegression(random_state=12345, solver='liblinear')\n",
    "model.fit(features_train, target_train)\n",
    "predicted_valid = model.predict(features_valid)\n",
    "display(\"confusion matrix, Logistic Regression:\",confusion_matrix(target_valid, predicted_valid))\n",
    "\n",
    "#confusion matrix, Random Forest Classifier\n",
    "model = RandomForestClassifier(random_state=12345, n_estimators =21)\n",
    "model.fit(features_train, target_train)\n",
    "predicted_valid = model.predict(features_valid)\n",
    "display(\"confusion matrix, Random Forest Classifier:\", confusion_matrix(target_valid, predicted_valid))"
   ]
  },
  {
   "cell_type": "code",
   "execution_count": 17,
   "metadata": {},
   "outputs": [
    {
     "name": "stdout",
     "output_type": "stream",
     "text": [
      "Recall\n",
      "Decision Tree Classifier: 0.4782608695652174\n",
      "Logistic Regression: 0.2071611253196931\n",
      "Random Forest Classifier: 0.47058823529411764\n"
     ]
    }
   ],
   "source": [
    "print(\"Recall\")\n",
    "\n",
    "#recall score, Decision Tree Classifier\n",
    "model = DecisionTreeClassifier(random_state=12345, max_depth=21)\n",
    "model.fit(features_train, target_train)\n",
    "predicted_valid = model.predict(features_valid)\n",
    "print(\"Decision Tree Classifier:\",recall_score(target_valid, predicted_valid))\n",
    "\n",
    "#recall score, Logistic Regression\n",
    "model = LogisticRegression(random_state=12345, solver='liblinear')\n",
    "model.fit(features_train, target_train)\n",
    "predicted_valid = model.predict(features_valid)\n",
    "print(\"Logistic Regression:\",recall_score(target_valid, predicted_valid))\n",
    "\n",
    "#recall score, Random Forest Classifier\n",
    "model = RandomForestClassifier(random_state=12345, n_estimators = 21)\n",
    "model.fit(features_train, target_train)\n",
    "predicted_valid = model.predict(features_valid)\n",
    "print(\"Random Forest Classifier:\", recall_score(target_valid, predicted_valid))"
   ]
  },
  {
   "cell_type": "code",
   "execution_count": 18,
   "metadata": {
    "scrolled": true
   },
   "outputs": [
    {
     "name": "stdout",
     "output_type": "stream",
     "text": [
      "Precision\n",
      "Decision Tree Classifier: 0.45278450363196127\n",
      "Logistic Regression: 0.5785714285714286\n",
      "Random Forest Classifier: 0.7244094488188977\n"
     ]
    }
   ],
   "source": [
    "print(\"Precision\")\n",
    "\n",
    "#Precision score, Decision Tree Classifier\n",
    "model = DecisionTreeClassifier(random_state=12345, max_depth=21)\n",
    "model.fit(features_train, target_train)\n",
    "predicted_valid = model.predict(features_valid)\n",
    "print(\"Decision Tree Classifier:\", precision_score(target_valid, predicted_valid))\n",
    "\n",
    "#Precision score, Logistic Regression\n",
    "model = LogisticRegression(random_state=12345, solver='liblinear')\n",
    "model.fit(features_train, target_train)\n",
    "predicted_valid = model.predict(features_valid)\n",
    "print(\"Logistic Regression:\",precision_score(target_valid, predicted_valid))\n",
    "\n",
    "#Precision score, Random Forest Classifier\n",
    "model = RandomForestClassifier(random_state=12345, n_estimators = 21)\n",
    "model.fit(features_train, target_train)\n",
    "predicted_valid = model.predict(features_valid)\n",
    "print(\"Random Forest Classifier:\", precision_score(target_valid, predicted_valid))"
   ]
  },
  {
   "cell_type": "code",
   "execution_count": 19,
   "metadata": {},
   "outputs": [
    {
     "name": "stdout",
     "output_type": "stream",
     "text": [
      "Auc_roc\n",
      "Decision Tree Classifier: 0.6707077675288777\n",
      "Logistic Regression: 0.7707874027012378\n",
      "Random Forest Classifier: 0.8219907521470501\n"
     ]
    }
   ],
   "source": [
    "print(\"Auc_roc\")\n",
    "\n",
    "#Auc_roc, Decision Tree Classifier\n",
    "model =  DecisionTreeClassifier(random_state=12345, max_depth=21)\n",
    "model.fit(features_train, target_train)\n",
    "probabilities_valid = model.predict_proba(features_valid)\n",
    "probabilities_one_valid = probabilities_valid[:, 1]\n",
    "auc_roc = roc_auc_score(target_valid, probabilities_one_valid)\n",
    "print(\"Decision Tree Classifier:\",auc_roc)\n",
    "\n",
    "#Auc_roc, Logistic Regression\n",
    "model = LogisticRegression(random_state=12345, solver='liblinear')\n",
    "model.fit(features_train, target_train)\n",
    "probabilities_valid = model.predict_proba(features_valid)\n",
    "probabilities_one_valid = probabilities_valid[:, 1]\n",
    "auc_roc = roc_auc_score(target_valid, probabilities_one_valid)\n",
    "print(\"Logistic Regression:\",auc_roc)\n",
    "\n",
    "#Auc_roc, Random Forest Classifier\n",
    "model = RandomForestClassifier(random_state=12345, n_estimators = 21)\n",
    "model.fit(features_train, target_train)\n",
    "probabilities_valid = model.predict_proba(features_valid)\n",
    "probabilities_one_valid = probabilities_valid[:, 1]\n",
    "auc_roc = roc_auc_score(target_valid, probabilities_one_valid)\n",
    "print(\"Random Forest Classifier:\", auc_roc)"
   ]
  },
  {
   "cell_type": "code",
   "execution_count": 20,
   "metadata": {},
   "outputs": [
    {
     "name": "stdout",
     "output_type": "stream",
     "text": [
      "F-1\n",
      "Decision Tree Classifier: 0.4651741293532339\n",
      "Logistic Regression: 0.3050847457627119\n",
      "Random Forest Classifier: 0.5705426356589146\n"
     ]
    }
   ],
   "source": [
    "print(\"F-1\")\n",
    "\n",
    "#f-1,Decision Tree Classifier\n",
    "model = DecisionTreeClassifier(random_state=12345, max_depth=21)\n",
    "model.fit(features_train, target_train)\n",
    "predicted_valid = model.predict(features_valid)\n",
    "f1 = f1_score(target_valid, predicted_valid)\n",
    "print(\"Decision Tree Classifier:\", f1)\n",
    "\n",
    "#f-1, Logistic Regression\n",
    "model = LogisticRegression(random_state=12345, solver='liblinear')\n",
    "model.fit(features_train, target_train)\n",
    "predicted_valid = model.predict(features_valid)\n",
    "f1 = f1_score(target_valid, predicted_valid)\n",
    "print(\"Logistic Regression:\", f1)\n",
    "\n",
    "#f-1, Random Forest Classifier\n",
    "model = RandomForestClassifier(random_state=12345, n_estimators = 21)\n",
    "model.fit(features_train, target_train)\n",
    "predicted_valid = model.predict(features_valid)\n",
    "f1 = f1_score(target_valid, predicted_valid)\n",
    "print(\"Random Forest Classifier:\", f1)"
   ]
  },
  {
   "cell_type": "markdown",
   "metadata": {},
   "source": [
    "#### Сonclusion\n",
    "\n",
    "Random Forest Classifier win again. Not big: f1- 0.57 and auc_roc - 0.82.\n",
    "\n",
    "Let's go to disbalance"
   ]
  },
  {
   "cell_type": "markdown",
   "metadata": {},
   "source": [
    "# 3. What to do with disbalance?"
   ]
  },
  {
   "cell_type": "code",
   "execution_count": 21,
   "metadata": {},
   "outputs": [
    {
     "name": "stdout",
     "output_type": "stream",
     "text": [
      "Logistic Regression F1: 0.47763864042933807\n",
      "Decision Tree Classifier F1: 0.45033112582781454\n",
      "Случайный лес F1: 0.561128526645768\n"
     ]
    }
   ],
   "source": [
    "#balance f-1, Logistic Regression\n",
    "model = LogisticRegression(random_state=12345, solver='liblinear', class_weight='balanced')\n",
    "model.fit(features_train, target_train)\n",
    "predicted_valid = model.predict(features_valid)\n",
    "print(\"Logistic Regression F1:\", f1_score(target_valid, predicted_valid))\n",
    "\n",
    "#balance f-1, Decision Tree Classifier\n",
    "model =  DecisionTreeClassifier(random_state=12345, max_depth=21, class_weight='balanced')\n",
    "model.fit(features_train, target_train)\n",
    "predicted_valid = model.predict(features_valid)\n",
    "print(\"Decision Tree Classifier F1:\", f1_score(target_valid, predicted_valid))\n",
    "\n",
    "#balance f-1, Random Forest Classifier\n",
    "model = RandomForestClassifier(random_state=12345, n_estimators = 21, class_weight='balanced')\n",
    "model.fit(features_train, target_train)\n",
    "predicted_valid = model.predict(features_valid)\n",
    "print(\"Случайный лес F1:\", f1_score(target_valid, predicted_valid))"
   ]
  },
  {
   "cell_type": "code",
   "execution_count": 22,
   "metadata": {},
   "outputs": [
    {
     "name": "stdout",
     "output_type": "stream",
     "text": [
      "Auc_roc, balance\n",
      "Decision Tree Classifier: 0.657761091303871\n",
      "Logistic Regression: 0.7729586930294586\n",
      "Random Forest Classifier: 0.8253120633775168\n"
     ]
    }
   ],
   "source": [
    "print(\"Auc_roc, balance\")\n",
    "\n",
    "#balance auc_roc, Decision Tree Classifier\n",
    "model =  DecisionTreeClassifier(random_state=12345, max_depth=21, class_weight='balanced')\n",
    "model.fit(features_train, target_train)\n",
    "probabilities_valid = model.predict_proba(features_valid)\n",
    "probabilities_one_valid = probabilities_valid[:, 1]\n",
    "auc_roc = roc_auc_score(target_valid, probabilities_one_valid)\n",
    "print(\"Decision Tree Classifier:\",auc_roc)\n",
    "\n",
    "#balance Auc_roc, Logistic Regression\n",
    "model = LogisticRegression(random_state=12345, solver='liblinear', class_weight='balanced')\n",
    "model.fit(features_train, target_train)\n",
    "probabilities_valid = model.predict_proba(features_valid)\n",
    "probabilities_one_valid = probabilities_valid[:, 1]\n",
    "auc_roc = roc_auc_score(target_valid, probabilities_one_valid)\n",
    "print(\"Logistic Regression:\",auc_roc)\n",
    "\n",
    "#balance Auc_roc, Random Forest Classifier\n",
    "model = RandomForestClassifier(random_state=12345, n_estimators = 21, class_weight='balanced')\n",
    "model.fit(features_train, target_train)\n",
    "probabilities_valid = model.predict_proba(features_valid)\n",
    "probabilities_one_valid = probabilities_valid[:, 1]\n",
    "auc_roc = roc_auc_score(target_valid, probabilities_one_valid)\n",
    "print(\"Random Forest Classifier:\", auc_roc)"
   ]
  },
  {
   "cell_type": "markdown",
   "metadata": {},
   "source": [
    "#### Сonclusion\n",
    "\n",
    "\n",
    "Random Forest Classifier is win again, but F1 only 0.56. \n",
    "Let's check up- and downsampling."
   ]
  },
  {
   "cell_type": "code",
   "execution_count": 23,
   "metadata": {},
   "outputs": [
    {
     "name": "stdout",
     "output_type": "stream",
     "text": [
      "Upsampling\n",
      "Logistic Regression F1: 0.40463065049614116\n",
      "Decision Tree Classifier F1: 0.4659685863874346\n",
      "Random Forest Classifier F1: 0.5844504021447721\n"
     ]
    }
   ],
   "source": [
    "#upsampling\n",
    "def upsample(features, target, repeat):\n",
    "    features_zeros = features_train[target_train == 0]\n",
    "    features_ones = features_train[target_train == 1]\n",
    "    target_zeros = target_train[target_train == 0]\n",
    "    target_ones = target_train[target_train == 1]\n",
    "    repeat = 10\n",
    "    features_upsampled = pd.concat([features_zeros] + [features_ones] * repeat)\n",
    "    target_upsampled = pd.concat([target_zeros] + [target_ones] * repeat)\n",
    "    return features_upsampled, target_upsampled\n",
    "features_upsampled, target_upsampled = upsample(features_train, target_train, 10)\n",
    "\n",
    "print(\"Upsampling\")\n",
    "\n",
    "#upsampling F1\n",
    "model = LogisticRegression(random_state=12345, solver='liblinear')\n",
    "model.fit(features_upsampled, target_upsampled)\n",
    "predicted_valid = model.predict(features_valid)\n",
    "print(\"Logistic Regression F1:\", f1_score(target_valid, predicted_valid))\n",
    "\n",
    "model =  DecisionTreeClassifier(random_state=12345, max_depth=21)\n",
    "model.fit(features_upsampled, target_upsampled)\n",
    "predicted_valid = model.predict(features_valid)\n",
    "print(\"Decision Tree Classifier F1:\", f1_score(target_valid, predicted_valid))\n",
    "\n",
    "model = RandomForestClassifier(random_state=12345, n_estimators = 21)\n",
    "model.fit(features_upsampled, target_upsampled)\n",
    "predicted_valid = model.predict(features_valid)\n",
    "print(\"Random Forest Classifier F1:\", f1_score(target_valid, predicted_valid))"
   ]
  },
  {
   "cell_type": "code",
   "execution_count": 24,
   "metadata": {},
   "outputs": [
    {
     "name": "stdout",
     "output_type": "stream",
     "text": [
      "Auc_roc, upsampling\n",
      "Decision Tree Classifier: 0.7494082995426937\n",
      "Logistic Regression: 0.7735134370445019\n",
      "Random Forest Classifier: 0.8281159844163027\n"
     ]
    }
   ],
   "source": [
    "print(\"Auc_roc, upsampling\")\n",
    "\n",
    "#upsampling Auc_roc, Decision Tree Classifier\n",
    "model =  DecisionTreeClassifier(random_state=12345, max_depth=11)\n",
    "model.fit(features_upsampled, target_upsampled)\n",
    "probabilities_valid = model.predict_proba(features_valid)\n",
    "probabilities_one_valid = probabilities_valid[:, 1]\n",
    "auc_roc = roc_auc_score(target_valid, probabilities_one_valid)\n",
    "print(\"Decision Tree Classifier:\",auc_roc)\n",
    "\n",
    "#upsampling Auc_roc, Logistic Regression\n",
    "model = LogisticRegression(random_state=12345, solver='liblinear')\n",
    "model.fit(features_upsampled, target_upsampled)\n",
    "probabilities_valid = model.predict_proba(features_valid)\n",
    "probabilities_one_valid = probabilities_valid[:, 1]\n",
    "auc_roc = roc_auc_score(target_valid, probabilities_one_valid)\n",
    "print(\"Logistic Regression:\",auc_roc)\n",
    "\n",
    "#upsampling Auc_roc, случайный лес\n",
    "model = RandomForestClassifier(random_state=12345, n_estimators = 21)\n",
    "model.fit(features_upsampled, target_upsampled)\n",
    "probabilities_valid = model.predict_proba(features_valid)\n",
    "probabilities_one_valid = probabilities_valid[:, 1]\n",
    "auc_roc = roc_auc_score(target_valid, probabilities_one_valid)\n",
    "print(\"Random Forest Classifier:\", auc_roc)"
   ]
  },
  {
   "cell_type": "code",
   "execution_count": 25,
   "metadata": {},
   "outputs": [
    {
     "name": "stdout",
     "output_type": "stream",
     "text": [
      "Downsampling\n",
      "Logistic Regression F1: 0.4064587973273942\n",
      "Decision Tree Classifier F1: 0.4277854195323246\n",
      "Random Forest Classifier F1: 0.46461949265687585\n"
     ]
    }
   ],
   "source": [
    "#downsampling\n",
    "def downsample(features, target, fraction):\n",
    "    features_zeros = features[target == 0]\n",
    "    features_ones = features[target == 1]\n",
    "    target_zeros = target[target == 0]\n",
    "    target_ones = target[target == 1]\n",
    "    features_downsampled = pd.concat([features_zeros.sample(frac=fraction, random_state=12345)] + [features_ones])\n",
    "    target_downsampled = pd.concat([target_zeros.sample(frac=fraction, random_state=12345)] + [target_ones])\n",
    "    return features_downsampled, target_downsampled\n",
    "features_downsampled, target_downsampled = downsample(features_train, target_train, 0.1)\n",
    "\n",
    "print(\"Downsampling\")\n",
    "#downsampling f1\n",
    "model = LogisticRegression(random_state=12345, solver='liblinear')\n",
    "model.fit(features_downsampled, target_downsampled)\n",
    "predicted_valid = model.predict(features_valid)\n",
    "print(\"Logistic Regression F1:\", f1_score(target_valid, predicted_valid))\n",
    "\n",
    "model =  DecisionTreeClassifier(random_state=12345, max_depth=21)\n",
    "model.fit(features_downsampled, target_downsampled)\n",
    "predicted_valid = model.predict(features_valid)\n",
    "print(\"Decision Tree Classifier F1:\", f1_score(target_valid, predicted_valid))\n",
    "\n",
    "model = RandomForestClassifier(random_state=12345, n_estimators = 21)\n",
    "model.fit(features_downsampled, target_downsampled)\n",
    "predicted_valid = model.predict(features_valid)\n",
    "print(\"Random Forest Classifier F1:\", f1_score(target_valid, predicted_valid))"
   ]
  },
  {
   "cell_type": "code",
   "execution_count": 26,
   "metadata": {},
   "outputs": [
    {
     "name": "stdout",
     "output_type": "stream",
     "text": [
      "Auc_roc, downsampling\n",
      "Decision Tree Classifier: 0.6640126907627969\n",
      "Logistic Regression: 0.7730206844809964\n",
      "Random Forest Classifier: 0.8223547532342848\n"
     ]
    }
   ],
   "source": [
    "print(\"Auc_roc, downsampling\")\n",
    "\n",
    "#downsampling Auc_roc, Decision Tree Classifier\n",
    "model =  DecisionTreeClassifier(random_state=12345, max_depth=21)\n",
    "model.fit(features_downsampled, target_downsampled)\n",
    "probabilities_valid = model.predict_proba(features_valid)\n",
    "probabilities_one_valid = probabilities_valid[:, 1]\n",
    "auc_roc = roc_auc_score(target_valid, probabilities_one_valid)\n",
    "print(\"Decision Tree Classifier:\",auc_roc)\n",
    "\n",
    "#downsampling Auc_roc, решающее дерево\n",
    "model = LogisticRegression(random_state=12345, solver='liblinear')\n",
    "model.fit(features_downsampled, target_downsampled)\n",
    "probabilities_valid = model.predict_proba(features_valid)\n",
    "probabilities_one_valid = probabilities_valid[:, 1]\n",
    "auc_roc = roc_auc_score(target_valid, probabilities_one_valid)\n",
    "print(\"Logistic Regression:\",auc_roc)\n",
    "\n",
    "#downsampling Auc_roc, случайный лес\n",
    "model = RandomForestClassifier(random_state=12345, n_estimators = 21)\n",
    "model.fit(features_downsampled, target_downsampled)\n",
    "probabilities_valid = model.predict_proba(features_valid)\n",
    "probabilities_one_valid = probabilities_valid[:, 1]\n",
    "auc_roc = roc_auc_score(target_valid, probabilities_one_valid)\n",
    "print(\"Random Forest Classifier:\", auc_roc)"
   ]
  },
  {
   "cell_type": "markdown",
   "metadata": {},
   "source": [
    "### Сonclusion\n",
    "\n",
    "\n",
    "Upsampling looks better than downsampling.\n",
    "\n",
    "F1:0.58 and 0.46.\n",
    "Auc_roc has same numbers.\n",
    "\n",
    "I think we should take upsampling and balance model.\n",
    "\n",
    "And of course Random Forest Classifier.\n"
   ]
  },
  {
   "cell_type": "markdown",
   "metadata": {},
   "source": [
    "# 4. Train and test"
   ]
  },
  {
   "cell_type": "code",
   "execution_count": 27,
   "metadata": {
    "scrolled": true
   },
   "outputs": [
    {
     "name": "stdout",
     "output_type": "stream",
     "text": [
      "accuracy: 0.996625\n"
     ]
    },
    {
     "data": {
      "text/plain": [
       "'confusion_matrix:'"
      ]
     },
     "metadata": {},
     "output_type": "display_data"
    },
    {
     "data": {
      "text/plain": [
       "array([[6389,    1],\n",
       "       [  26, 1584]], dtype=int64)"
      ]
     },
     "metadata": {},
     "output_type": "display_data"
    },
    {
     "name": "stdout",
     "output_type": "stream",
     "text": [
      "recall_score: 0.9838509316770186\n",
      "precision_score: 0.9993690851735015\n",
      "Auc_roc: 0.999980559686622\n",
      "F1: 0.9915492957746479\n"
     ]
    }
   ],
   "source": [
    "features_full_train = pd.concat([features_train, features_valid])\n",
    "target_full_train = pd.concat([target_train, target_valid]) \n",
    "\n",
    "features_upsampled, target_upsampled = upsample(features_full_train, target_full_train, 10)\n",
    "\n",
    "# accuracy, Random Forest Classifier\n",
    "model = RandomForestClassifier(random_state=12345, n_estimators = 21, class_weight='balanced')\n",
    "model.fit(features_full_train, target_full_train)\n",
    "predicted_valid = model.predict(features_full_train)\n",
    "accuracy_valid = accuracy_score(target_full_train, predicted_valid)\n",
    "print(\"accuracy:\", accuracy_valid)\n",
    "\n",
    "#confusion_matrix,Random Forest Classifier\n",
    "model = RandomForestClassifier(random_state=12345, n_estimators =21, class_weight='balanced')\n",
    "model.fit(features_full_train, target_full_train)\n",
    "predicted_valid = model.predict(features_full_train)\n",
    "display(\"confusion_matrix:\", confusion_matrix(target_full_train, predicted_valid))\n",
    "\n",
    "#recall_score, Random Forest Classifier\n",
    "model = RandomForestClassifier(random_state=12345, n_estimators = 21, class_weight='balanced')\n",
    "model.fit(features_full_train, target_full_train)\n",
    "predicted_valid = model.predict(features_full_train)\n",
    "print(\"recall_score:\", recall_score(target_full_train, predicted_valid))\n",
    "\n",
    "#precision_score, Random Forest Classifier\n",
    "model = RandomForestClassifier(random_state=12345, n_estimators = 21, class_weight='balanced')\n",
    "model.fit(features_full_train, target_full_train)\n",
    "predicted_valid = model.predict(features_full_train)\n",
    "print(\"precision_score:\", precision_score(target_full_train, predicted_valid))\n",
    "\n",
    "#Auc_roc, Random Forest Classifier\n",
    "model = RandomForestClassifier(random_state=12345, n_estimators = 21, class_weight='balanced')\n",
    "model.fit(features_full_train, target_full_train)\n",
    "probabilities_valid = model.predict_proba(features_full_train)\n",
    "probabilities_one_valid = probabilities_valid[:, 1]\n",
    "auc_roc = roc_auc_score(target_full_train, probabilities_one_valid)\n",
    "print(\"Auc_roc:\", auc_roc)\n",
    "\n",
    "#f-1, Random Forest Classifier\n",
    "model = RandomForestClassifier(random_state=12345, n_estimators = 21, class_weight='balanced')\n",
    "model.fit(features_full_train, target_full_train)\n",
    "predicted_valid = model.predict(features_full_train)\n",
    "f1 = f1_score(target_full_train, predicted_valid)\n",
    "print(\"F1:\", f1)"
   ]
  },
  {
   "cell_type": "markdown",
   "metadata": {},
   "source": [
    "***Test on test***"
   ]
  },
  {
   "cell_type": "code",
   "execution_count": 28,
   "metadata": {},
   "outputs": [
    {
     "name": "stdout",
     "output_type": "stream",
     "text": [
      "F1 = 0.6025316455696202\n",
      "AUC-ROC = 0.841482660409635\n"
     ]
    }
   ],
   "source": [
    "#f-1, Random Forest Classifier\n",
    "model = RandomForestClassifier(random_state=12345, n_estimators = 21, class_weight='balanced')\n",
    "model.fit(features_upsampled, target_upsampled)\n",
    "predicted_test = model.predict(features_test)\n",
    "probablities_test = model.predict_proba(features_test)[:, 1]\n",
    "\n",
    "print('F1 =', f1_score(target_test, predicted_test))\n",
    "print('AUC-ROC =', roc_auc_score(target_test, probablities_test))\n"
   ]
  },
  {
   "cell_type": "markdown",
   "metadata": {},
   "source": [
    "# Final conclusion\n",
    "\n",
    "So, Random Forest Regressor is good choice.\n",
    "\n",
    "Now we have F1 = 0.6025316455696202\n",
    "AUC-ROC = 0.841482660409635\n",
    "\n",
    "I think, we can this model with other data."
   ]
  }
 ],
 "metadata": {
  "kernelspec": {
   "display_name": "Python 3",
   "language": "python",
   "name": "python3"
  },
  "language_info": {
   "codemirror_mode": {
    "name": "ipython",
    "version": 3
   },
   "file_extension": ".py",
   "mimetype": "text/x-python",
   "name": "python",
   "nbconvert_exporter": "python",
   "pygments_lexer": "ipython3",
   "version": "3.7.4"
  }
 },
 "nbformat": 4,
 "nbformat_minor": 2
}
