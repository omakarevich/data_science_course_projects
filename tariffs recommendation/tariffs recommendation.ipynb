{
 "cells": [
  {
   "cell_type": "markdown",
   "metadata": {},
   "source": [
    "# Tariffs recommendation"
   ]
  },
  {
   "cell_type": "markdown",
   "metadata": {},
   "source": [
    "Here is customers behavior data who have already changed their tariffs.\n",
    "\n",
    "We need to build a classification model, which can select the right tariff. \n",
    "\n",
    "Data is already prepared.\n",
    "\n",
    "Build the model with the highest possible *accuracy* (min 0.75).\n",
    "\n",
    "No train-valid-test.\n",
    "Use all data."
   ]
  },
  {
   "cell_type": "code",
   "execution_count": 1,
   "metadata": {},
   "outputs": [],
   "source": [
    "#library import\n",
    "import pandas as pd\n",
    "from sklearn.tree import DecisionTreeRegressor\n",
    "from sklearn.ensemble import RandomForestRegressor\n",
    "from sklearn.model_selection import train_test_split\n",
    "from sklearn.linear_model import LinearRegression\n",
    "from sklearn.metrics import accuracy_score\n",
    "import numpy as np"
   ]
  },
  {
   "cell_type": "code",
   "execution_count": 2,
   "metadata": {
    "scrolled": true
   },
   "outputs": [
    {
     "data": {
      "text/html": [
       "<div>\n",
       "<style scoped>\n",
       "    .dataframe tbody tr th:only-of-type {\n",
       "        vertical-align: middle;\n",
       "    }\n",
       "\n",
       "    .dataframe tbody tr th {\n",
       "        vertical-align: top;\n",
       "    }\n",
       "\n",
       "    .dataframe thead th {\n",
       "        text-align: right;\n",
       "    }\n",
       "</style>\n",
       "<table border=\"1\" class=\"dataframe\">\n",
       "  <thead>\n",
       "    <tr style=\"text-align: right;\">\n",
       "      <th></th>\n",
       "      <th>calls</th>\n",
       "      <th>minutes</th>\n",
       "      <th>messages</th>\n",
       "      <th>mb_used</th>\n",
       "      <th>is_ultra</th>\n",
       "    </tr>\n",
       "  </thead>\n",
       "  <tbody>\n",
       "    <tr>\n",
       "      <th>0</th>\n",
       "      <td>40.0</td>\n",
       "      <td>311.90</td>\n",
       "      <td>83.0</td>\n",
       "      <td>19915.42</td>\n",
       "      <td>0</td>\n",
       "    </tr>\n",
       "    <tr>\n",
       "      <th>1</th>\n",
       "      <td>85.0</td>\n",
       "      <td>516.75</td>\n",
       "      <td>56.0</td>\n",
       "      <td>22696.96</td>\n",
       "      <td>0</td>\n",
       "    </tr>\n",
       "    <tr>\n",
       "      <th>2</th>\n",
       "      <td>77.0</td>\n",
       "      <td>467.66</td>\n",
       "      <td>86.0</td>\n",
       "      <td>21060.45</td>\n",
       "      <td>0</td>\n",
       "    </tr>\n",
       "    <tr>\n",
       "      <th>3</th>\n",
       "      <td>106.0</td>\n",
       "      <td>745.53</td>\n",
       "      <td>81.0</td>\n",
       "      <td>8437.39</td>\n",
       "      <td>1</td>\n",
       "    </tr>\n",
       "    <tr>\n",
       "      <th>4</th>\n",
       "      <td>66.0</td>\n",
       "      <td>418.74</td>\n",
       "      <td>1.0</td>\n",
       "      <td>14502.75</td>\n",
       "      <td>0</td>\n",
       "    </tr>\n",
       "  </tbody>\n",
       "</table>\n",
       "</div>"
      ],
      "text/plain": [
       "   calls  minutes  messages   mb_used  is_ultra\n",
       "0   40.0   311.90      83.0  19915.42         0\n",
       "1   85.0   516.75      56.0  22696.96         0\n",
       "2   77.0   467.66      86.0  21060.45         0\n",
       "3  106.0   745.53      81.0   8437.39         1\n",
       "4   66.0   418.74       1.0  14502.75         0"
      ]
     },
     "metadata": {},
     "output_type": "display_data"
    }
   ],
   "source": [
    "#check data\n",
    "users_behavior = pd.read_csv('users_behavior.csv')\n",
    "display(users_behavior.head())"
   ]
  },
  {
   "cell_type": "code",
   "execution_count": 3,
   "metadata": {},
   "outputs": [
    {
     "name": "stdout",
     "output_type": "stream",
     "text": [
      "<class 'pandas.core.frame.DataFrame'>\n",
      "RangeIndex: 3214 entries, 0 to 3213\n",
      "Data columns (total 5 columns):\n",
      " #   Column    Non-Null Count  Dtype  \n",
      "---  ------    --------------  -----  \n",
      " 0   calls     3214 non-null   float64\n",
      " 1   minutes   3214 non-null   float64\n",
      " 2   messages  3214 non-null   float64\n",
      " 3   mb_used   3214 non-null   float64\n",
      " 4   is_ultra  3214 non-null   int64  \n",
      "dtypes: float64(4), int64(1)\n",
      "memory usage: 125.7 KB\n"
     ]
    }
   ],
   "source": [
    "users_behavior.info()"
   ]
  },
  {
   "cell_type": "markdown",
   "metadata": {},
   "source": [
    "#### Сonclusion\n",
    "\n",
    "Data is already prepared. So, we don't need to do anything(duplicates, nulls etc)\n",
    "3214 entries and 5 columns in table. Data types are normal.\n",
    "We have:\n",
    "- сalls - number of calls(count)\n",
    "- minutes - total duration of calls in minutes\n",
    "- messages -  number of spent sms \n",
    "- mb_used - spent MB\n",
    "- is_ultra - tariff name. What tariff did customer use during the month (\"Ultra\" - 1, \"Smart\" - 0).\n",
    "\n",
    "Target is ***is_ultra***."
   ]
  },
  {
   "cell_type": "code",
   "execution_count": 4,
   "metadata": {},
   "outputs": [
    {
     "name": "stdout",
     "output_type": "stream",
     "text": [
      "(3214, 4)\n",
      "(3214,)\n"
     ]
    }
   ],
   "source": [
    "#features&target\n",
    "features = users_behavior.drop(['is_ultra'], axis=1)\n",
    "target = users_behavior['is_ultra']\n",
    "\n",
    "print(features.shape)\n",
    "print(target.shape)"
   ]
  },
  {
   "cell_type": "markdown",
   "metadata": {},
   "source": [
    "##### Сonclusion\n",
    "\n",
    "We don't need train, valid and test, so here is features&target for all."
   ]
  },
  {
   "cell_type": "code",
   "execution_count": 5,
   "metadata": {},
   "outputs": [
    {
     "name": "stdout",
     "output_type": "stream",
     "text": [
      "max_depth = 1 : accuracy: 0.1245422356649214\n",
      "max_depth = 2 : accuracy: 0.2104165265003096\n",
      "max_depth = 3 : accuracy: 0.26269514027349605\n",
      "max_depth = 4 : accuracy: 0.29608888251375887\n",
      "max_depth = 5 : accuracy: 0.33559267409465265\n",
      "max_depth = 6 : accuracy: 0.37426716194879983\n",
      "max_depth = 7 : accuracy: 0.41237224934443245\n",
      "max_depth = 8 : accuracy: 0.4603412436004965\n",
      "max_depth = 9 : accuracy: 0.4997908217573446\n",
      "max_depth = 10 : accuracy: 0.5402448111128757\n"
     ]
    }
   ],
   "source": [
    "#depth params Decision Tree Regressor\n",
    "for depth in range(1, 11):\n",
    "    model =  DecisionTreeRegressor(random_state=12345, max_depth=depth)\n",
    "    model.fit(features, target)\n",
    "    model.predict(features)\n",
    "    accuracy = model.score(features, target)\n",
    "    print(\"max_depth =\", depth, \": \", end='') \n",
    "    print('accuracy:', accuracy)"
   ]
  },
  {
   "cell_type": "markdown",
   "metadata": {},
   "source": [
    "#### Сonclusion\n",
    "max_depth 10 is enough. Result is 0.54. Of course, we can use bigger number, but shouldn't. Too big tree is not good"
   ]
  },
  {
   "cell_type": "code",
   "execution_count": 6,
   "metadata": {},
   "outputs": [
    {
     "name": "stdout",
     "output_type": "stream",
     "text": [
      "max_depth = 5 : accuracy: 0.362275481004361\n",
      "max_depth = 6 : accuracy: 0.4022621192324852\n",
      "max_depth = 7 : accuracy: 0.44337619786499416\n",
      "max_depth = 8 : accuracy: 0.4855772254180293\n",
      "max_depth = 9 : accuracy: 0.5269517929532881\n",
      "max_depth = 10 : accuracy: 0.5688037743126255\n",
      "max_depth = 11 : accuracy: 0.6098133807967852\n",
      "max_depth = 12 : accuracy: 0.6526963399874277\n",
      "max_depth = 13 : accuracy: 0.69617774724513\n",
      "max_depth = 14 : accuracy: 0.7382066765544004\n",
      "max_depth = 15 : accuracy: 0.7764075569687485\n"
     ]
    }
   ],
   "source": [
    "#depth params Random Forest Regressor\n",
    "for depth in range(5, 16):\n",
    "    model =  RandomForestRegressor(random_state=12345, max_depth=depth)\n",
    "    model.fit(features, target)\n",
    "    accuracy = model.score(features, target)\n",
    "    print(\"max_depth =\", depth, \": \", end='') \n",
    "    print('accuracy:', accuracy)"
   ]
  },
  {
   "cell_type": "code",
   "execution_count": 7,
   "metadata": {},
   "outputs": [
    {
     "name": "stdout",
     "output_type": "stream",
     "text": [
      "max_est = 1 : accuracy: 0.5418117887650786\n",
      "max_est = 2 : accuracy: 0.7057641199417917\n",
      "max_est = 3 : accuracy: 0.7799330316645905\n",
      "max_est = 4 : accuracy: 0.8149131886325388\n",
      "max_est = 5 : accuracy: 0.8334127206436612\n",
      "max_est = 6 : accuracy: 0.843204318200048\n",
      "max_est = 7 : accuracy: 0.8491327856336733\n",
      "max_est = 8 : accuracy: 0.8546890122815767\n",
      "max_est = 9 : accuracy: 0.8581501490954562\n",
      "max_est = 10 : accuracy: 0.8648125197842013\n"
     ]
    }
   ],
   "source": [
    "#n_estimators params Random Forest Regressor\n",
    "for est in range(1, 11):\n",
    "    model =  RandomForestRegressor(random_state=12345, n_estimators = est)\n",
    "    model.fit(features, target)\n",
    "    accuracy = model.score(features, target)\n",
    "    print(\"max_est =\", est, \": \", end='')\n",
    "    print('accuracy:', accuracy)"
   ]
  },
  {
   "cell_type": "code",
   "execution_count": 8,
   "metadata": {},
   "outputs": [
    {
     "data": {
      "text/plain": [
       "0.7612999939364278"
      ]
     },
     "execution_count": 8,
     "metadata": {},
     "output_type": "execute_result"
    }
   ],
   "source": [
    "#Random Forest Regressor\n",
    "model = RandomForestRegressor(random_state=12345, max_depth = 15, n_estimators= 10)\n",
    "model.fit(features, target)\n",
    "model.predict(features)\n",
    "model.score(features, target)"
   ]
  },
  {
   "cell_type": "markdown",
   "metadata": {},
   "source": [
    "#### Сonclusion\n",
    "\n",
    "I think, we can choose this model, because accuracy is 0.76.\n",
    "\n",
    "But we need to chek Linear Regression before."
   ]
  },
  {
   "cell_type": "code",
   "execution_count": 9,
   "metadata": {},
   "outputs": [
    {
     "data": {
      "text/plain": [
       "0.08668370138262516"
      ]
     },
     "execution_count": 9,
     "metadata": {},
     "output_type": "execute_result"
    }
   ],
   "source": [
    "#Linear Regression\n",
    "model = LinearRegression()\n",
    "model.fit(features, target)\n",
    "model.predict(features)\n",
    "model.score(features, target)"
   ]
  },
  {
   "cell_type": "markdown",
   "metadata": {},
   "source": [
    "#### Сonclusion\n",
    "\n",
    "No. Too small accuracy."
   ]
  },
  {
   "cell_type": "markdown",
   "metadata": {},
   "source": [
    "# Final conclusion\n",
    "\n",
    "So, we should choose Random Forest Regressor with accuracy 0.76.\n",
    "\n",
    "Linear Regression has only 0.09 and Decision Tree Regressor has 0.54.\n",
    "\n",
    "My be, we can check Decision Tree Regressor more. But now, we don't need it."
   ]
  }
 ],
 "metadata": {
  "kernelspec": {
   "display_name": "Python 3",
   "language": "python",
   "name": "python3"
  },
  "language_info": {
   "codemirror_mode": {
    "name": "ipython",
    "version": 3
   },
   "file_extension": ".py",
   "mimetype": "text/x-python",
   "name": "python",
   "nbconvert_exporter": "python",
   "pygments_lexer": "ipython3",
   "version": "3.7.4"
  }
 },
 "nbformat": 4,
 "nbformat_minor": 2
}
