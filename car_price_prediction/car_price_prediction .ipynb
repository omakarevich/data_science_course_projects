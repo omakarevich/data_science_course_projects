{
 "cells": [
  {
   "cell_type": "markdown",
   "metadata": {},
   "source": [
    "Used car sales service is developing an application to attract new customers. There you can find the price of your car. \n",
    "\n",
    "We have historical data: technical characteristics, equipment and prices of cars. We need to build a model to determine the price.\n",
    "\n",
    "We must check:\n",
    "\n",
    "- score\n",
    "- rmse\n",
    "- time"
   ]
  },
  {
   "cell_type": "markdown",
   "metadata": {},
   "source": [
    "# 1.About data"
   ]
  },
  {
   "cell_type": "code",
   "execution_count": 1,
   "metadata": {},
   "outputs": [],
   "source": [
    "#library import\n",
    "import pandas as pd\n",
    "import lightgbm as lgbm\n",
    "from sklearn.ensemble import RandomForestRegressor\n",
    "from sklearn.model_selection import train_test_split\n",
    "from sklearn.tree import DecisionTreeRegressor\n",
    "from sklearn.preprocessing import StandardScaler\n",
    "from sklearn.metrics import mean_squared_error,mean_absolute_error\n",
    "from lightgbm import LGBMRegressor\n",
    "import timeit"
   ]
  },
  {
   "cell_type": "code",
   "execution_count": 2,
   "metadata": {},
   "outputs": [
    {
     "data": {
      "text/html": [
       "<div>\n",
       "<style scoped>\n",
       "    .dataframe tbody tr th:only-of-type {\n",
       "        vertical-align: middle;\n",
       "    }\n",
       "\n",
       "    .dataframe tbody tr th {\n",
       "        vertical-align: top;\n",
       "    }\n",
       "\n",
       "    .dataframe thead th {\n",
       "        text-align: right;\n",
       "    }\n",
       "</style>\n",
       "<table border=\"1\" class=\"dataframe\">\n",
       "  <thead>\n",
       "    <tr style=\"text-align: right;\">\n",
       "      <th></th>\n",
       "      <th>DateCrawled</th>\n",
       "      <th>Price</th>\n",
       "      <th>VehicleType</th>\n",
       "      <th>RegistrationYear</th>\n",
       "      <th>Gearbox</th>\n",
       "      <th>Power</th>\n",
       "      <th>Model</th>\n",
       "      <th>Kilometer</th>\n",
       "      <th>RegistrationMonth</th>\n",
       "      <th>FuelType</th>\n",
       "      <th>Brand</th>\n",
       "      <th>NotRepaired</th>\n",
       "      <th>DateCreated</th>\n",
       "      <th>NumberOfPictures</th>\n",
       "      <th>PostalCode</th>\n",
       "      <th>LastSeen</th>\n",
       "    </tr>\n",
       "  </thead>\n",
       "  <tbody>\n",
       "    <tr>\n",
       "      <th>0</th>\n",
       "      <td>2016-03-24 11:52:17</td>\n",
       "      <td>480</td>\n",
       "      <td>NaN</td>\n",
       "      <td>1993</td>\n",
       "      <td>manual</td>\n",
       "      <td>0</td>\n",
       "      <td>golf</td>\n",
       "      <td>150000</td>\n",
       "      <td>0</td>\n",
       "      <td>petrol</td>\n",
       "      <td>volkswagen</td>\n",
       "      <td>NaN</td>\n",
       "      <td>2016-03-24 00:00:00</td>\n",
       "      <td>0</td>\n",
       "      <td>70435</td>\n",
       "      <td>2016-04-07 03:16:57</td>\n",
       "    </tr>\n",
       "    <tr>\n",
       "      <th>1</th>\n",
       "      <td>2016-03-24 10:58:45</td>\n",
       "      <td>18300</td>\n",
       "      <td>coupe</td>\n",
       "      <td>2011</td>\n",
       "      <td>manual</td>\n",
       "      <td>190</td>\n",
       "      <td>NaN</td>\n",
       "      <td>125000</td>\n",
       "      <td>5</td>\n",
       "      <td>gasoline</td>\n",
       "      <td>audi</td>\n",
       "      <td>yes</td>\n",
       "      <td>2016-03-24 00:00:00</td>\n",
       "      <td>0</td>\n",
       "      <td>66954</td>\n",
       "      <td>2016-04-07 01:46:50</td>\n",
       "    </tr>\n",
       "    <tr>\n",
       "      <th>2</th>\n",
       "      <td>2016-03-14 12:52:21</td>\n",
       "      <td>9800</td>\n",
       "      <td>suv</td>\n",
       "      <td>2004</td>\n",
       "      <td>auto</td>\n",
       "      <td>163</td>\n",
       "      <td>grand</td>\n",
       "      <td>125000</td>\n",
       "      <td>8</td>\n",
       "      <td>gasoline</td>\n",
       "      <td>jeep</td>\n",
       "      <td>NaN</td>\n",
       "      <td>2016-03-14 00:00:00</td>\n",
       "      <td>0</td>\n",
       "      <td>90480</td>\n",
       "      <td>2016-04-05 12:47:46</td>\n",
       "    </tr>\n",
       "    <tr>\n",
       "      <th>3</th>\n",
       "      <td>2016-03-17 16:54:04</td>\n",
       "      <td>1500</td>\n",
       "      <td>small</td>\n",
       "      <td>2001</td>\n",
       "      <td>manual</td>\n",
       "      <td>75</td>\n",
       "      <td>golf</td>\n",
       "      <td>150000</td>\n",
       "      <td>6</td>\n",
       "      <td>petrol</td>\n",
       "      <td>volkswagen</td>\n",
       "      <td>no</td>\n",
       "      <td>2016-03-17 00:00:00</td>\n",
       "      <td>0</td>\n",
       "      <td>91074</td>\n",
       "      <td>2016-03-17 17:40:17</td>\n",
       "    </tr>\n",
       "    <tr>\n",
       "      <th>4</th>\n",
       "      <td>2016-03-31 17:25:20</td>\n",
       "      <td>3600</td>\n",
       "      <td>small</td>\n",
       "      <td>2008</td>\n",
       "      <td>manual</td>\n",
       "      <td>69</td>\n",
       "      <td>fabia</td>\n",
       "      <td>90000</td>\n",
       "      <td>7</td>\n",
       "      <td>gasoline</td>\n",
       "      <td>skoda</td>\n",
       "      <td>no</td>\n",
       "      <td>2016-03-31 00:00:00</td>\n",
       "      <td>0</td>\n",
       "      <td>60437</td>\n",
       "      <td>2016-04-06 10:17:21</td>\n",
       "    </tr>\n",
       "  </tbody>\n",
       "</table>\n",
       "</div>"
      ],
      "text/plain": [
       "           DateCrawled  Price VehicleType  RegistrationYear Gearbox  Power  \\\n",
       "0  2016-03-24 11:52:17    480         NaN              1993  manual      0   \n",
       "1  2016-03-24 10:58:45  18300       coupe              2011  manual    190   \n",
       "2  2016-03-14 12:52:21   9800         suv              2004    auto    163   \n",
       "3  2016-03-17 16:54:04   1500       small              2001  manual     75   \n",
       "4  2016-03-31 17:25:20   3600       small              2008  manual     69   \n",
       "\n",
       "   Model  Kilometer  RegistrationMonth  FuelType       Brand NotRepaired  \\\n",
       "0   golf     150000                  0    petrol  volkswagen         NaN   \n",
       "1    NaN     125000                  5  gasoline        audi         yes   \n",
       "2  grand     125000                  8  gasoline        jeep         NaN   \n",
       "3   golf     150000                  6    petrol  volkswagen          no   \n",
       "4  fabia      90000                  7  gasoline       skoda          no   \n",
       "\n",
       "           DateCreated  NumberOfPictures  PostalCode             LastSeen  \n",
       "0  2016-03-24 00:00:00                 0       70435  2016-04-07 03:16:57  \n",
       "1  2016-03-24 00:00:00                 0       66954  2016-04-07 01:46:50  \n",
       "2  2016-03-14 00:00:00                 0       90480  2016-04-05 12:47:46  \n",
       "3  2016-03-17 00:00:00                 0       91074  2016-03-17 17:40:17  \n",
       "4  2016-03-31 00:00:00                 0       60437  2016-04-06 10:17:21  "
      ]
     },
     "metadata": {},
     "output_type": "display_data"
    }
   ],
   "source": [
    "#check data\n",
    "autos = pd.read_csv('autos.csv')\n",
    "display(autos.head())"
   ]
  },
  {
   "cell_type": "code",
   "execution_count": 3,
   "metadata": {
    "scrolled": true
   },
   "outputs": [
    {
     "name": "stdout",
     "output_type": "stream",
     "text": [
      "<class 'pandas.core.frame.DataFrame'>\n",
      "RangeIndex: 354369 entries, 0 to 354368\n",
      "Data columns (total 16 columns):\n",
      " #   Column             Non-Null Count   Dtype \n",
      "---  ------             --------------   ----- \n",
      " 0   datecrawled        354369 non-null  object\n",
      " 1   price              354369 non-null  int64 \n",
      " 2   vehicletype        316879 non-null  object\n",
      " 3   registrationyear   354369 non-null  int64 \n",
      " 4   gearbox            334536 non-null  object\n",
      " 5   power              354369 non-null  int64 \n",
      " 6   model              334664 non-null  object\n",
      " 7   kilometer          354369 non-null  int64 \n",
      " 8   registrationmonth  354369 non-null  int64 \n",
      " 9   fueltype           321474 non-null  object\n",
      " 10  brand              354369 non-null  object\n",
      " 11  notrepaired        283215 non-null  object\n",
      " 12  datecreated        354369 non-null  object\n",
      " 13  numberofpictures   354369 non-null  int64 \n",
      " 14  postalcode         354369 non-null  int64 \n",
      " 15  lastseen           354369 non-null  object\n",
      "dtypes: int64(7), object(9)\n",
      "memory usage: 43.3+ MB\n"
     ]
    }
   ],
   "source": [
    "#str.lower\n",
    "autos.columns = autos.columns.str.lower()\n",
    "autos.info()"
   ]
  },
  {
   "cell_type": "code",
   "execution_count": 4,
   "metadata": {},
   "outputs": [
    {
     "data": {
      "text/plain": [
       "datecrawled              0\n",
       "price                    0\n",
       "vehicletype          37490\n",
       "registrationyear         0\n",
       "gearbox              19833\n",
       "power                    0\n",
       "model                19705\n",
       "kilometer                0\n",
       "registrationmonth        0\n",
       "fueltype             32895\n",
       "brand                    0\n",
       "notrepaired          71154\n",
       "datecreated              0\n",
       "numberofpictures         0\n",
       "postalcode               0\n",
       "lastseen                 0\n",
       "dtype: int64"
      ]
     },
     "execution_count": 4,
     "metadata": {},
     "output_type": "execute_result"
    }
   ],
   "source": [
    "autos.isnull().sum()"
   ]
  },
  {
   "cell_type": "code",
   "execution_count": 5,
   "metadata": {},
   "outputs": [
    {
     "data": {
      "text/plain": [
       "datecrawled          0\n",
       "price                0\n",
       "vehicletype          0\n",
       "registrationyear     0\n",
       "gearbox              0\n",
       "power                0\n",
       "model                0\n",
       "kilometer            0\n",
       "registrationmonth    0\n",
       "fueltype             0\n",
       "brand                0\n",
       "notrepaired          0\n",
       "datecreated          0\n",
       "numberofpictures     0\n",
       "postalcode           0\n",
       "lastseen             0\n",
       "dtype: int64"
      ]
     },
     "execution_count": 5,
     "metadata": {},
     "output_type": "execute_result"
    }
   ],
   "source": [
    "#fill 0\n",
    "autos['notrepaired'] = autos['notrepaired'].fillna(value='0')\n",
    "autos.loc[autos['notrepaired'] == 'no', 'notrepaired'] = '0'\n",
    "autos.loc[autos['notrepaired'] == 'yes', 'notrepaired'] = '1'\n",
    "\n",
    "autos['gearbox'] = autos['gearbox'].fillna(value='0')\n",
    "autos.loc[autos['gearbox'] == 'manual', 'gearbox'] = '0'\n",
    "autos.loc[autos['gearbox'] == 'auto', 'gearbox'] = '1'\n",
    "\n",
    "autos['fueltype'] = autos['fueltype'].fillna(value='no info')\n",
    "autos['vehicletype'] = autos['vehicletype'].fillna(value='no info')\n",
    "autos['model'] = autos['model'].fillna(value='no info')\n",
    "\n",
    "autos.isnull().sum()"
   ]
  },
  {
   "cell_type": "code",
   "execution_count": 6,
   "metadata": {},
   "outputs": [
    {
     "name": "stdout",
     "output_type": "stream",
     "text": [
      "<class 'pandas.core.frame.DataFrame'>\n",
      "RangeIndex: 354369 entries, 0 to 354368\n",
      "Data columns (total 16 columns):\n",
      " #   Column             Non-Null Count   Dtype \n",
      "---  ------             --------------   ----- \n",
      " 0   datecrawled        354369 non-null  object\n",
      " 1   price              354369 non-null  int64 \n",
      " 2   vehicletype        354369 non-null  object\n",
      " 3   registrationyear   354369 non-null  int64 \n",
      " 4   gearbox            354369 non-null  int32 \n",
      " 5   power              354369 non-null  int64 \n",
      " 6   model              354369 non-null  object\n",
      " 7   kilometer          354369 non-null  int64 \n",
      " 8   registrationmonth  354369 non-null  int64 \n",
      " 9   fueltype           354369 non-null  object\n",
      " 10  brand              354369 non-null  object\n",
      " 11  notrepaired        354369 non-null  int32 \n",
      " 12  datecreated        354369 non-null  object\n",
      " 13  numberofpictures   354369 non-null  int64 \n",
      " 14  postalcode         354369 non-null  int64 \n",
      " 15  lastseen           354369 non-null  object\n",
      "dtypes: int32(2), int64(7), object(7)\n",
      "memory usage: 40.6+ MB\n"
     ]
    }
   ],
   "source": [
    "#change columns types\n",
    "autos['notrepaired'] = autos['notrepaired'].astype('int')\n",
    "autos['gearbox'] = autos['gearbox'].astype('int')\n",
    "autos.info()"
   ]
  },
  {
   "cell_type": "code",
   "execution_count": 7,
   "metadata": {},
   "outputs": [
    {
     "data": {
      "text/plain": [
       "0"
      ]
     },
     "execution_count": 7,
     "metadata": {},
     "output_type": "execute_result"
    }
   ],
   "source": [
    "#check duplicates\n",
    "#autos.duplicated().sum()\n",
    "autos = autos.drop_duplicates().reset_index(drop=True)\n",
    "autos.duplicated().sum()"
   ]
  },
  {
   "cell_type": "markdown",
   "metadata": {},
   "source": [
    "#### Conclusion\n",
    "\n",
    "354364 entries и 16 columns:\n",
    "\n",
    "Feauters:\n",
    "- DateCrawled — Date crawled questionnaire from base\n",
    "- VehicleType — Vehicle type\n",
    "- RegistrationYear — Registration year\n",
    "- Gearbox — Gearbox type\n",
    "- Power — Power\n",
    "- Model — car model\n",
    "- Kilometer — mileage (km)\n",
    "- RegistrationMonth — Registration month\n",
    "- FuelType — Fuel type\n",
    "- Brand — car brand\n",
    "- NotRepaired — repair or not\n",
    "- DateCreated — Date created questionnaire\n",
    "- NumberOfPictures — Number of pictures\n",
    "- PostalCode — Owners postal code\n",
    "- LastSeen — Last seen of user\n",
    "\n",
    "Target:\n",
    "- Price — цена (euro)\n",
    "\n",
    "\n",
    "We had 4 dulicates and now they have been deleted. \n",
    "\n",
    "In columns NotRepaired и Gearbox we change data for 1 и 0:\n",
    "\n",
    "***NotRepaired:***\n",
    "- no = 0\n",
    "- yes = 1\n",
    "\n",
    "***Gearbox:***\n",
    "- manual = 0\n",
    "- auto = 1\n",
    "\n",
    "Also, nulls in FuelType, VehicleType и Model now is \"no info\"."
   ]
  },
  {
   "cell_type": "markdown",
   "metadata": {},
   "source": [
    "# 2. Train and test models"
   ]
  },
  {
   "cell_type": "code",
   "execution_count": 8,
   "metadata": {},
   "outputs": [],
   "source": [
    "#we should delete this columns, because we don't need them in model and haven't enough memory\n",
    "pre_auto = autos.drop(['datecrawled', 'registrationmonth','datecreated',\n",
    "                      'numberofpictures', 'postalcode','lastseen'], axis=1)"
   ]
  },
  {
   "cell_type": "code",
   "execution_count": 9,
   "metadata": {},
   "outputs": [
    {
     "name": "stdout",
     "output_type": "stream",
     "text": [
      "<class 'pandas.core.frame.DataFrame'>\n",
      "RangeIndex: 354364 entries, 0 to 354363\n",
      "Columns: 310 entries, price to brand_volvo\n",
      "dtypes: int32(2), int64(4), uint8(304)\n",
      "memory usage: 116.3 MB\n"
     ]
    }
   ],
   "source": [
    "#get dummies\n",
    "auto = pd.get_dummies(pre_auto, drop_first=True)\n",
    "auto.info()"
   ]
  },
  {
   "cell_type": "code",
   "execution_count": 10,
   "metadata": {
    "scrolled": true
   },
   "outputs": [
    {
     "name": "stdout",
     "output_type": "stream",
     "text": [
      "(212618, 309)\n",
      "(70873, 309)\n",
      "(70873, 309)\n"
     ]
    }
   ],
   "source": [
    "#feauters & target\n",
    "features = auto.drop(['price'], axis=1)\n",
    "target = auto['price']\n",
    "\n",
    "#divide for two\n",
    "features_train_valid, features_test, target_train_valid, target_test = train_test_split(\n",
    "    features, target, test_size=0.20, random_state=12345)\n",
    "\n",
    "#and three\n",
    "features_train, features_valid, target_train, target_valid = train_test_split(\n",
    "    features_train_valid, target_train_valid, test_size=0.250, random_state=12345)\n",
    "\n",
    "print(features_train.shape)\n",
    "print(features_valid.shape)\n",
    "print(features_test.shape)"
   ]
  },
  {
   "cell_type": "code",
   "execution_count": 11,
   "metadata": {
    "scrolled": true
   },
   "outputs": [
    {
     "name": "stdout",
     "output_type": "stream",
     "text": [
      "max_depth = 5 : RMSE: 2560.224586970118\n",
      "max_depth = 6 : RMSE: 2433.1661132195786\n",
      "max_depth = 7 : RMSE: 2320.172601434079\n",
      "max_depth = 8 : RMSE: 2253.4671623423774\n",
      "max_depth = 9 : RMSE: 2194.908138915063\n",
      "max_depth = 10 : RMSE: 2150.795417687194\n"
     ]
    }
   ],
   "source": [
    "#depth params\n",
    "for depth in range(5, 11):\n",
    "    model =  DecisionTreeRegressor(random_state=12345, max_depth=depth)\n",
    "    model.fit(features_train, target_train)\n",
    "    predictions_valid = model.predict(features_valid)\n",
    "    rmse = (mean_squared_error(target_valid,predictions_valid))**0.5\n",
    "    print(\"max_depth =\", depth, \": \", end='') \n",
    "    print('RMSE:', rmse)"
   ]
  },
  {
   "cell_type": "code",
   "execution_count": 12,
   "metadata": {},
   "outputs": [
    {
     "name": "stdout",
     "output_type": "stream",
     "text": [
      "max_est = 5 : RMSE: 1867.7239487034965\n",
      "max_est = 6 : RMSE: 1856.0096237518605\n",
      "max_est = 7 : RMSE: 1844.0437504300783\n",
      "max_est = 8 : RMSE: 1833.5423935286428\n",
      "max_est = 9 : RMSE: 1824.6751123281801\n",
      "max_est = 10 : RMSE: 1818.1471155615225\n"
     ]
    }
   ],
   "source": [
    "#params n_estimators\n",
    "for est in range(5, 11):\n",
    "    model =  RandomForestRegressor(random_state=12345, n_estimators = est)\n",
    "    model.fit(features_train, target_train)\n",
    "    predictions_valid = model.predict(features_valid)\n",
    "    rmse = (mean_squared_error(target_valid,predictions_valid))**0.5\n",
    "    print(\"max_est =\", est, \": \", end='')\n",
    "    print('RMSE:', rmse)"
   ]
  },
  {
   "cell_type": "code",
   "execution_count": 13,
   "metadata": {},
   "outputs": [
    {
     "name": "stdout",
     "output_type": "stream",
     "text": [
      "0.7097136203726361\n",
      "RMSE: 2433.1661132195786\n"
     ]
    }
   ],
   "source": [
    "#train DecisionTreeRegressor\n",
    "model =  DecisionTreeRegressor(random_state=12345, max_depth=6)\n",
    "model.fit(features_train, target_train)\n",
    "predictions_valid = model.predict(features_valid)\n",
    "rmse = (mean_squared_error(target_valid,predictions_valid))**0.5\n",
    "print(model.score(features_valid, target_valid))\n",
    "print('RMSE:', rmse)"
   ]
  },
  {
   "cell_type": "code",
   "execution_count": 14,
   "metadata": {},
   "outputs": [
    {
     "name": "stdout",
     "output_type": "stream",
     "text": [
      "0.8310945792510871\n",
      "RMSE: 1856.0096237518605\n"
     ]
    }
   ],
   "source": [
    "#train RandomForestRegressor\n",
    "model =  RandomForestRegressor(random_state=12345, n_estimators = 6)\n",
    "model.fit(features_train, target_train)\n",
    "predictions_valid = model.predict(features_valid)\n",
    "rmse = (mean_squared_error(target_valid,predictions_valid))**0.5\n",
    "print(model.score(features_valid, target_valid))\n",
    "print('RMSE:', rmse)"
   ]
  },
  {
   "cell_type": "markdown",
   "metadata": {},
   "source": [
    "#### Conclusion\n",
    "\n",
    "RMSE is normal(for our price).\n",
    "Score sometimes(RandomForestRegressor) is high, but all is normal."
   ]
  },
  {
   "cell_type": "code",
   "execution_count": 15,
   "metadata": {},
   "outputs": [
    {
     "name": "stdout",
     "output_type": "stream",
     "text": [
      "score: 0.8298396647684432\n",
      "RMSE: 1860.4281849360746\n",
      "time: 0.006172300000002906\n"
     ]
    }
   ],
   "source": [
    "#test RandomForestRegressor\n",
    "model = RandomForestRegressor(random_state=12345, n_estimators = 6)\n",
    "model.fit(features_train, target_train)\n",
    "score_forest = model.score(features_test, target_test)\n",
    "\n",
    "predictions_test = model.predict(features_test)\n",
    "rmse_forest = (mean_squared_error(target_test,predictions_test))**0.5\n",
    "time_forest = timeit.timeit()\n",
    "\n",
    "print('score:', score_forest)\n",
    "print('RMSE:', rmse_forest)\n",
    "print('time:',time_forest)"
   ]
  },
  {
   "cell_type": "code",
   "execution_count": 16,
   "metadata": {},
   "outputs": [
    {
     "name": "stdout",
     "output_type": "stream",
     "text": [
      "score: 0.7125152539014175\n",
      "RMSE: 2418.194043560093\n",
      "time: 0.009367600000018683\n"
     ]
    }
   ],
   "source": [
    "#test DecisionTreeRegressor\n",
    "model = DecisionTreeRegressor(random_state=12345, max_depth=6)\n",
    "model.fit(features_train, target_train)\n",
    "score_tree = model.score(features_test, target_test)\n",
    "\n",
    "predictions_test = model.predict(features_test)\n",
    "rmse_tree = (mean_squared_error(target_test,predictions_test))**0.5\n",
    "time_tree = timeit.timeit()\n",
    "print('score:',score_tree)\n",
    "print('RMSE:', rmse_tree)\n",
    "print('time:',time_tree)"
   ]
  },
  {
   "cell_type": "code",
   "execution_count": 17,
   "metadata": {},
   "outputs": [
    {
     "data": {
      "text/html": [
       "<div>\n",
       "<style scoped>\n",
       "    .dataframe tbody tr th:only-of-type {\n",
       "        vertical-align: middle;\n",
       "    }\n",
       "\n",
       "    .dataframe tbody tr th {\n",
       "        vertical-align: top;\n",
       "    }\n",
       "\n",
       "    .dataframe thead th {\n",
       "        text-align: right;\n",
       "    }\n",
       "</style>\n",
       "<table border=\"1\" class=\"dataframe\">\n",
       "  <thead>\n",
       "    <tr style=\"text-align: right;\">\n",
       "      <th></th>\n",
       "      <th>price</th>\n",
       "      <th>vehicletype</th>\n",
       "      <th>registrationyear</th>\n",
       "      <th>gearbox</th>\n",
       "      <th>power</th>\n",
       "      <th>model</th>\n",
       "      <th>kilometer</th>\n",
       "      <th>fueltype</th>\n",
       "      <th>brand</th>\n",
       "      <th>notrepaired</th>\n",
       "    </tr>\n",
       "  </thead>\n",
       "  <tbody>\n",
       "    <tr>\n",
       "      <th>0</th>\n",
       "      <td>480</td>\n",
       "      <td>no info</td>\n",
       "      <td>1993</td>\n",
       "      <td>0</td>\n",
       "      <td>0</td>\n",
       "      <td>golf</td>\n",
       "      <td>150000</td>\n",
       "      <td>petrol</td>\n",
       "      <td>volkswagen</td>\n",
       "      <td>0</td>\n",
       "    </tr>\n",
       "    <tr>\n",
       "      <th>1</th>\n",
       "      <td>18300</td>\n",
       "      <td>coupe</td>\n",
       "      <td>2011</td>\n",
       "      <td>0</td>\n",
       "      <td>190</td>\n",
       "      <td>no info</td>\n",
       "      <td>125000</td>\n",
       "      <td>gasoline</td>\n",
       "      <td>audi</td>\n",
       "      <td>1</td>\n",
       "    </tr>\n",
       "    <tr>\n",
       "      <th>2</th>\n",
       "      <td>9800</td>\n",
       "      <td>suv</td>\n",
       "      <td>2004</td>\n",
       "      <td>1</td>\n",
       "      <td>163</td>\n",
       "      <td>grand</td>\n",
       "      <td>125000</td>\n",
       "      <td>gasoline</td>\n",
       "      <td>jeep</td>\n",
       "      <td>0</td>\n",
       "    </tr>\n",
       "    <tr>\n",
       "      <th>3</th>\n",
       "      <td>1500</td>\n",
       "      <td>small</td>\n",
       "      <td>2001</td>\n",
       "      <td>0</td>\n",
       "      <td>75</td>\n",
       "      <td>golf</td>\n",
       "      <td>150000</td>\n",
       "      <td>petrol</td>\n",
       "      <td>volkswagen</td>\n",
       "      <td>0</td>\n",
       "    </tr>\n",
       "    <tr>\n",
       "      <th>4</th>\n",
       "      <td>3600</td>\n",
       "      <td>small</td>\n",
       "      <td>2008</td>\n",
       "      <td>0</td>\n",
       "      <td>69</td>\n",
       "      <td>fabia</td>\n",
       "      <td>90000</td>\n",
       "      <td>gasoline</td>\n",
       "      <td>skoda</td>\n",
       "      <td>0</td>\n",
       "    </tr>\n",
       "  </tbody>\n",
       "</table>\n",
       "</div>"
      ],
      "text/plain": [
       "   price vehicletype  registrationyear  gearbox  power    model  kilometer  \\\n",
       "0    480     no info              1993        0      0     golf     150000   \n",
       "1  18300       coupe              2011        0    190  no info     125000   \n",
       "2   9800         suv              2004        1    163    grand     125000   \n",
       "3   1500       small              2001        0     75     golf     150000   \n",
       "4   3600       small              2008        0     69    fabia      90000   \n",
       "\n",
       "   fueltype       brand  notrepaired  \n",
       "0    petrol  volkswagen            0  \n",
       "1  gasoline        audi            1  \n",
       "2  gasoline        jeep            0  \n",
       "3    petrol  volkswagen            0  \n",
       "4  gasoline       skoda            0  "
      ]
     },
     "metadata": {},
     "output_type": "display_data"
    }
   ],
   "source": [
    "#category for lgbm\n",
    "auto_lgbm = pre_auto.copy(deep=True)\n",
    "auto_lgbm[['model','fueltype','brand','vehicletype']] = auto_lgbm[['model','fueltype','brand','vehicletype']].astype('category')\n",
    "\n",
    "display(auto_lgbm.head())"
   ]
  },
  {
   "cell_type": "code",
   "execution_count": 18,
   "metadata": {},
   "outputs": [
    {
     "name": "stdout",
     "output_type": "stream",
     "text": [
      "(212618, 9)\n",
      "(70873, 9)\n",
      "(70873, 9)\n"
     ]
    }
   ],
   "source": [
    "#feauters and target for lgbm\n",
    "features_lgbm = auto_lgbm.drop(['price'], axis=1)\n",
    "target_lgbm = auto_lgbm['price']\n",
    "\n",
    "#divide for two\n",
    "features_train_valid_lgbm, features_test_lgbm, target_train_valid_lgbm, target_test_lgbm = train_test_split(\n",
    "    features_lgbm, target_lgbm, test_size=0.20, random_state=12345)\n",
    "\n",
    "#and three\n",
    "features_train_lgbm, features_valid_lgbm, target_train_lgbm, target_valid_lgbm = train_test_split(\n",
    "    features_train_valid_lgbm, target_train_valid_lgbm, test_size=0.250, random_state=12345)\n",
    "\n",
    "print(features_train_lgbm.shape)\n",
    "print(features_valid_lgbm.shape)\n",
    "print(features_test_lgbm.shape)"
   ]
  },
  {
   "cell_type": "code",
   "execution_count": 19,
   "metadata": {
    "scrolled": true
   },
   "outputs": [
    {
     "data": {
      "text/plain": [
       "LGBMRegressor(boosting_type='gbdt', class_weight=None, colsample_bytree=1.0,\n",
       "              importance_type='split', learning_rate=0.1, max_depth=-1,\n",
       "              min_child_samples=20, min_child_weight=0.001, min_split_gain=0.0,\n",
       "              n_estimators=100, n_jobs=-1, num_leaves=31, objective=None,\n",
       "              random_state=None, reg_alpha=0.0, reg_lambda=0.0, silent=True,\n",
       "              subsample=1.0, subsample_for_bin=200000, subsample_freq=0)"
      ]
     },
     "execution_count": 19,
     "metadata": {},
     "output_type": "execute_result"
    }
   ],
   "source": [
    "#params for lgbm\n",
    "lgbm.LGBMRegressor().fit(features_train_lgbm,target_train_lgbm)\n"
   ]
  },
  {
   "cell_type": "code",
   "execution_count": 20,
   "metadata": {},
   "outputs": [
    {
     "name": "stdout",
     "output_type": "stream",
     "text": [
      "max_depth = 5 : RMSE: 1832.069376652848\n",
      "max_depth = 6 : RMSE: 1821.748200812587\n",
      "max_depth = 7 : RMSE: 1809.3383827281925\n",
      "max_depth = 8 : RMSE: 1803.4048773882464\n",
      "max_depth = 9 : RMSE: 1802.5455865738786\n",
      "max_depth = 10 : RMSE: 1798.7490362984374\n"
     ]
    }
   ],
   "source": [
    "#params for LightGBM max_depth\n",
    "for depth in range(5, 11):\n",
    "    model =  LGBMRegressor(random_state=12345, max_depth=depth)\n",
    "    model.fit(features_train_lgbm,target_train_lgbm)\n",
    "    predictions_valid = model.predict(features_valid_lgbm)\n",
    "    rmse = (mean_squared_error(target_valid_lgbm,predictions_valid))**0.5\n",
    "    print(\"max_depth =\", depth, \": \", end='') \n",
    "    print('RMSE:', rmse)"
   ]
  },
  {
   "cell_type": "code",
   "execution_count": 21,
   "metadata": {},
   "outputs": [
    {
     "name": "stdout",
     "output_type": "stream",
     "text": [
      "num_leaves = 5 : RMSE: 1993.947161223378\n",
      "num_leaves = 6 : RMSE: 1961.570239386642\n",
      "num_leaves = 7 : RMSE: 1942.5030816982214\n",
      "num_leaves = 8 : RMSE: 1924.0543177790512\n",
      "num_leaves = 9 : RMSE: 1904.38201761778\n",
      "num_leaves = 10 : RMSE: 1895.3654661180635\n"
     ]
    }
   ],
   "source": [
    "#params for  LightGBM num_leaves\n",
    "for nl in range(5, 11):\n",
    "    model =  LGBMRegressor(random_state=12345, num_leaves=nl)\n",
    "    model.fit(features_train_lgbm,target_train_lgbm)\n",
    "    predictions_valid = model.predict(features_valid_lgbm)\n",
    "    rmse = (mean_squared_error(target_valid_lgbm,predictions_valid))**0.5\n",
    "    print(\"num_leaves =\", nl, \": \", end='') \n",
    "    print('RMSE:', rmse)"
   ]
  },
  {
   "cell_type": "code",
   "execution_count": 22,
   "metadata": {},
   "outputs": [
    {
     "name": "stdout",
     "output_type": "stream",
     "text": [
      "min_data_in_leaf = 5 : RMSE: 1799.866154751988\n",
      "min_data_in_leaf = 6 : RMSE: 1802.5689166299237\n",
      "min_data_in_leaf = 7 : RMSE: 1800.6876956068552\n",
      "min_data_in_leaf = 8 : RMSE: 1802.1500000568453\n",
      "min_data_in_leaf = 9 : RMSE: 1801.8822078391745\n",
      "min_data_in_leaf = 10 : RMSE: 1800.8330339716686\n"
     ]
    }
   ],
   "source": [
    "#params for  LightGBM min_data_in_leaf\n",
    "for min_data in range(5, 11):\n",
    "    model = LGBMRegressor(random_state=12345, min_data_in_leaf=min_data)\n",
    "    model.fit(features_train_lgbm,target_train_lgbm)\n",
    "    predictions_valid = model.predict(features_valid_lgbm)\n",
    "    rmse = (mean_squared_error(target_valid_lgbm,predictions_valid))**0.5\n",
    "    print(\"min_data_in_leaf =\", min_data, \": \", end='') \n",
    "    print('RMSE:', rmse)"
   ]
  },
  {
   "cell_type": "code",
   "execution_count": 23,
   "metadata": {
    "scrolled": true
   },
   "outputs": [
    {
     "name": "stdout",
     "output_type": "stream",
     "text": [
      "0.7735769721132164\n",
      "RMSE: 2148.9124735639084\n"
     ]
    }
   ],
   "source": [
    "#train LGBMRegressor\n",
    "model = LGBMRegressor(random_state=12345,max_depth=6, max_bin=6, min_data_in_leaf = 7,num_leaves=6 )\n",
    "model.fit(features_train_lgbm,target_train_lgbm)\n",
    "predictions_valid_lgbm = model.predict(features_valid_lgbm)\n",
    "rmse_lgbm = (mean_squared_error(target_valid_lgbm,predictions_valid_lgbm))**0.5\n",
    "print(model.score(features_valid_lgbm, target_valid_lgbm))\n",
    "print('RMSE:', rmse_lgbm)"
   ]
  },
  {
   "cell_type": "code",
   "execution_count": 24,
   "metadata": {},
   "outputs": [
    {
     "name": "stdout",
     "output_type": "stream",
     "text": [
      "score: 0.7742535929985919\n",
      "RMSE: 2142.8618224695506\n",
      "time: 0.015763699999979508\n"
     ]
    }
   ],
   "source": [
    "#test LGBMRegressor\n",
    "model = LGBMRegressor(random_state=12345,max_depth=6, max_bin=6, min_data_in_leaf = 7,num_leaves=6 )\n",
    "model.fit(features_train_lgbm, target_train_lgbm)\n",
    "score_lgbmr = model.score(features_test_lgbm, target_test_lgbm)\n",
    "\n",
    "predictions_test_lgbm = model.predict(features_test_lgbm)\n",
    "rmse_lgbmr = (mean_squared_error(target_test_lgbm,predictions_test_lgbm))**0.5\n",
    "time_lgbmr = timeit.timeit()\n",
    "print('score:',score_lgbmr)\n",
    "print('RMSE:', rmse_lgbmr)\n",
    "print('time:',time_lgbmr)"
   ]
  },
  {
   "cell_type": "markdown",
   "metadata": {},
   "source": [
    "# 3. Analyze"
   ]
  },
  {
   "cell_type": "code",
   "execution_count": 25,
   "metadata": {},
   "outputs": [
    {
     "data": {
      "text/html": [
       "<div>\n",
       "<style scoped>\n",
       "    .dataframe tbody tr th:only-of-type {\n",
       "        vertical-align: middle;\n",
       "    }\n",
       "\n",
       "    .dataframe tbody tr th {\n",
       "        vertical-align: top;\n",
       "    }\n",
       "\n",
       "    .dataframe thead th {\n",
       "        text-align: right;\n",
       "    }\n",
       "</style>\n",
       "<table border=\"1\" class=\"dataframe\">\n",
       "  <thead>\n",
       "    <tr style=\"text-align: right;\">\n",
       "      <th></th>\n",
       "      <th>regression</th>\n",
       "      <th>rmse</th>\n",
       "      <th>score</th>\n",
       "      <th>time</th>\n",
       "    </tr>\n",
       "  </thead>\n",
       "  <tbody>\n",
       "    <tr>\n",
       "      <th>0</th>\n",
       "      <td>RandomForestRegressor</td>\n",
       "      <td>1860.428185</td>\n",
       "      <td>0.829840</td>\n",
       "      <td>0.006172</td>\n",
       "    </tr>\n",
       "    <tr>\n",
       "      <th>1</th>\n",
       "      <td>DecisionTreeRegressor</td>\n",
       "      <td>2418.194044</td>\n",
       "      <td>0.712515</td>\n",
       "      <td>0.009368</td>\n",
       "    </tr>\n",
       "    <tr>\n",
       "      <th>2</th>\n",
       "      <td>LGBMRegressor</td>\n",
       "      <td>2142.861822</td>\n",
       "      <td>0.774254</td>\n",
       "      <td>0.015764</td>\n",
       "    </tr>\n",
       "  </tbody>\n",
       "</table>\n",
       "</div>"
      ],
      "text/plain": [
       "              regression         rmse     score      time\n",
       "0  RandomForestRegressor  1860.428185  0.829840  0.006172\n",
       "1  DecisionTreeRegressor  2418.194044  0.712515  0.009368\n",
       "2          LGBMRegressor  2142.861822  0.774254  0.015764"
      ]
     },
     "metadata": {},
     "output_type": "display_data"
    }
   ],
   "source": [
    "#table\n",
    "rmse_score_time = pd.DataFrame({'regression':['RandomForestRegressor','DecisionTreeRegressor',\n",
    "                                              'LGBMRegressor'],\n",
    "                                'rmse':[rmse_forest, rmse_tree, rmse_lgbmr], \n",
    "                                'score':[score_forest,score_tree,score_lgbmr],\n",
    "                                'time':[time_forest,time_tree,time_lgbmr]})\n",
    "\n",
    "display(rmse_score_time)"
   ]
  },
  {
   "cell_type": "markdown",
   "metadata": {},
   "source": [
    "### Final conclusion \n",
    "\n",
    "Score is real, it is very good. Time is too small and it is good too.\n",
    "\n",
    "Lowest rmse has RandomForestRegressor,but it has highest score: 1860 и 0.83\n",
    "\n",
    "DecisionTreeRegressor has highest rmse(24018) and smallest score - 0.71.\n",
    "\n",
    "LGBMRegressor in a middle: score - 0,77, rmse - 2143. \n",
    "\n",
    "So, here we can choose, what we need: better rmse or better score.\n",
    "\n",
    "But company can choose, what we need: better rmse or better score."
   ]
  }
 ],
 "metadata": {
  "kernelspec": {
   "display_name": "Python 3",
   "language": "python",
   "name": "python3"
  },
  "language_info": {
   "codemirror_mode": {
    "name": "ipython",
    "version": 3
   },
   "file_extension": ".py",
   "mimetype": "text/x-python",
   "name": "python",
   "nbconvert_exporter": "python",
   "pygments_lexer": "ipython3",
   "version": "3.7.6"
  }
 },
 "nbformat": 4,
 "nbformat_minor": 2
}
