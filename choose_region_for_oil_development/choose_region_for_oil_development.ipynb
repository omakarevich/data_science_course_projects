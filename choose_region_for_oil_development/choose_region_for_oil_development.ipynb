{
 "cells": [
  {
   "cell_type": "markdown",
   "metadata": {},
   "source": [
    "# Description"
   ]
  },
  {
   "cell_type": "markdown",
   "metadata": {},
   "source": [
    "So, we work in oil company and need to decide where to drill the new well\n",
    "\n",
    "We have oil samples in three regions(10,000 fields in one). \n",
    "\n",
    "Build a machine learning model to help determine the region where mining will get the most profit. Analyze the potential rewards and risks with *Bootstrap*."
   ]
  },
  {
   "cell_type": "markdown",
   "metadata": {},
   "source": [
    "# 1. About data"
   ]
  },
  {
   "cell_type": "code",
   "execution_count": 1,
   "metadata": {},
   "outputs": [],
   "source": [
    "#library import\n",
    "import pandas as pd\n",
    "from sklearn.linear_model import LinearRegression\n",
    "from sklearn.preprocessing import StandardScaler\n",
    "import numpy as np\n",
    "from sklearn.model_selection import train_test_split, cross_val_score\n",
    "from sklearn.metrics import roc_curve, mean_squared_error,mean_absolute_error, accuracy_score,r2_score, confusion_matrix, recall_score,roc_auc_score, precision_score, f1_score"
   ]
  },
  {
   "cell_type": "code",
   "execution_count": 2,
   "metadata": {
    "scrolled": true
   },
   "outputs": [
    {
     "data": {
      "text/html": [
       "<div>\n",
       "<style scoped>\n",
       "    .dataframe tbody tr th:only-of-type {\n",
       "        vertical-align: middle;\n",
       "    }\n",
       "\n",
       "    .dataframe tbody tr th {\n",
       "        vertical-align: top;\n",
       "    }\n",
       "\n",
       "    .dataframe thead th {\n",
       "        text-align: right;\n",
       "    }\n",
       "</style>\n",
       "<table border=\"1\" class=\"dataframe\">\n",
       "  <thead>\n",
       "    <tr style=\"text-align: right;\">\n",
       "      <th></th>\n",
       "      <th>id</th>\n",
       "      <th>f0</th>\n",
       "      <th>f1</th>\n",
       "      <th>f2</th>\n",
       "      <th>product</th>\n",
       "    </tr>\n",
       "  </thead>\n",
       "  <tbody>\n",
       "    <tr>\n",
       "      <th>0</th>\n",
       "      <td>txEyH</td>\n",
       "      <td>0.705745</td>\n",
       "      <td>-0.497823</td>\n",
       "      <td>1.221170</td>\n",
       "      <td>105.280062</td>\n",
       "    </tr>\n",
       "    <tr>\n",
       "      <th>1</th>\n",
       "      <td>2acmU</td>\n",
       "      <td>1.334711</td>\n",
       "      <td>-0.340164</td>\n",
       "      <td>4.365080</td>\n",
       "      <td>73.037750</td>\n",
       "    </tr>\n",
       "    <tr>\n",
       "      <th>2</th>\n",
       "      <td>409Wp</td>\n",
       "      <td>1.022732</td>\n",
       "      <td>0.151990</td>\n",
       "      <td>1.419926</td>\n",
       "      <td>85.265647</td>\n",
       "    </tr>\n",
       "    <tr>\n",
       "      <th>3</th>\n",
       "      <td>iJLyR</td>\n",
       "      <td>-0.032172</td>\n",
       "      <td>0.139033</td>\n",
       "      <td>2.978566</td>\n",
       "      <td>168.620776</td>\n",
       "    </tr>\n",
       "    <tr>\n",
       "      <th>4</th>\n",
       "      <td>Xdl7t</td>\n",
       "      <td>1.988431</td>\n",
       "      <td>0.155413</td>\n",
       "      <td>4.751769</td>\n",
       "      <td>154.036647</td>\n",
       "    </tr>\n",
       "  </tbody>\n",
       "</table>\n",
       "</div>"
      ],
      "text/plain": [
       "      id        f0        f1        f2     product\n",
       "0  txEyH  0.705745 -0.497823  1.221170  105.280062\n",
       "1  2acmU  1.334711 -0.340164  4.365080   73.037750\n",
       "2  409Wp  1.022732  0.151990  1.419926   85.265647\n",
       "3  iJLyR -0.032172  0.139033  2.978566  168.620776\n",
       "4  Xdl7t  1.988431  0.155413  4.751769  154.036647"
      ]
     },
     "metadata": {},
     "output_type": "display_data"
    }
   ],
   "source": [
    "#check data zero\n",
    "geo_data_0 = pd.read_csv('geo_data_0.csv')\n",
    "display(geo_data_0.head())"
   ]
  },
  {
   "cell_type": "code",
   "execution_count": 3,
   "metadata": {},
   "outputs": [
    {
     "name": "stdout",
     "output_type": "stream",
     "text": [
      "<class 'pandas.core.frame.DataFrame'>\n",
      "RangeIndex: 100000 entries, 0 to 99999\n",
      "Data columns (total 5 columns):\n",
      " #   Column   Non-Null Count   Dtype  \n",
      "---  ------   --------------   -----  \n",
      " 0   id       100000 non-null  object \n",
      " 1   f0       100000 non-null  float64\n",
      " 2   f1       100000 non-null  float64\n",
      " 3   f2       100000 non-null  float64\n",
      " 4   product  100000 non-null  float64\n",
      "dtypes: float64(4), object(1)\n",
      "memory usage: 3.8+ MB\n"
     ]
    },
    {
     "data": {
      "text/plain": [
       "0"
      ]
     },
     "execution_count": 3,
     "metadata": {},
     "output_type": "execute_result"
    }
   ],
   "source": [
    "geo_data_0.info()\n",
    "geo_data_0.duplicated().sum()"
   ]
  },
  {
   "cell_type": "code",
   "execution_count": 4,
   "metadata": {},
   "outputs": [
    {
     "data": {
      "text/html": [
       "<div>\n",
       "<style scoped>\n",
       "    .dataframe tbody tr th:only-of-type {\n",
       "        vertical-align: middle;\n",
       "    }\n",
       "\n",
       "    .dataframe tbody tr th {\n",
       "        vertical-align: top;\n",
       "    }\n",
       "\n",
       "    .dataframe thead th {\n",
       "        text-align: right;\n",
       "    }\n",
       "</style>\n",
       "<table border=\"1\" class=\"dataframe\">\n",
       "  <thead>\n",
       "    <tr style=\"text-align: right;\">\n",
       "      <th></th>\n",
       "      <th>id</th>\n",
       "      <th>f0</th>\n",
       "      <th>f1</th>\n",
       "      <th>f2</th>\n",
       "      <th>product</th>\n",
       "    </tr>\n",
       "  </thead>\n",
       "  <tbody>\n",
       "    <tr>\n",
       "      <th>0</th>\n",
       "      <td>kBEdx</td>\n",
       "      <td>-15.001348</td>\n",
       "      <td>-8.276000</td>\n",
       "      <td>-0.005876</td>\n",
       "      <td>3.179103</td>\n",
       "    </tr>\n",
       "    <tr>\n",
       "      <th>1</th>\n",
       "      <td>62mP7</td>\n",
       "      <td>14.272088</td>\n",
       "      <td>-3.475083</td>\n",
       "      <td>0.999183</td>\n",
       "      <td>26.953261</td>\n",
       "    </tr>\n",
       "    <tr>\n",
       "      <th>2</th>\n",
       "      <td>vyE1P</td>\n",
       "      <td>6.263187</td>\n",
       "      <td>-5.948386</td>\n",
       "      <td>5.001160</td>\n",
       "      <td>134.766305</td>\n",
       "    </tr>\n",
       "    <tr>\n",
       "      <th>3</th>\n",
       "      <td>KcrkZ</td>\n",
       "      <td>-13.081196</td>\n",
       "      <td>-11.506057</td>\n",
       "      <td>4.999415</td>\n",
       "      <td>137.945408</td>\n",
       "    </tr>\n",
       "    <tr>\n",
       "      <th>4</th>\n",
       "      <td>AHL4O</td>\n",
       "      <td>12.702195</td>\n",
       "      <td>-8.147433</td>\n",
       "      <td>5.004363</td>\n",
       "      <td>134.766305</td>\n",
       "    </tr>\n",
       "  </tbody>\n",
       "</table>\n",
       "</div>"
      ],
      "text/plain": [
       "      id         f0         f1        f2     product\n",
       "0  kBEdx -15.001348  -8.276000 -0.005876    3.179103\n",
       "1  62mP7  14.272088  -3.475083  0.999183   26.953261\n",
       "2  vyE1P   6.263187  -5.948386  5.001160  134.766305\n",
       "3  KcrkZ -13.081196 -11.506057  4.999415  137.945408\n",
       "4  AHL4O  12.702195  -8.147433  5.004363  134.766305"
      ]
     },
     "metadata": {},
     "output_type": "display_data"
    }
   ],
   "source": [
    "##check data one\n",
    "geo_data_1 = pd.read_csv('geo_data_1.csv')\n",
    "display(geo_data_1.head())"
   ]
  },
  {
   "cell_type": "code",
   "execution_count": 5,
   "metadata": {},
   "outputs": [
    {
     "name": "stdout",
     "output_type": "stream",
     "text": [
      "<class 'pandas.core.frame.DataFrame'>\n",
      "RangeIndex: 100000 entries, 0 to 99999\n",
      "Data columns (total 5 columns):\n",
      " #   Column   Non-Null Count   Dtype  \n",
      "---  ------   --------------   -----  \n",
      " 0   id       100000 non-null  object \n",
      " 1   f0       100000 non-null  float64\n",
      " 2   f1       100000 non-null  float64\n",
      " 3   f2       100000 non-null  float64\n",
      " 4   product  100000 non-null  float64\n",
      "dtypes: float64(4), object(1)\n",
      "memory usage: 3.8+ MB\n"
     ]
    },
    {
     "data": {
      "text/plain": [
       "0"
      ]
     },
     "execution_count": 5,
     "metadata": {},
     "output_type": "execute_result"
    }
   ],
   "source": [
    "geo_data_1.info()\n",
    "geo_data_1.duplicated().sum()"
   ]
  },
  {
   "cell_type": "code",
   "execution_count": 6,
   "metadata": {
    "scrolled": true
   },
   "outputs": [
    {
     "data": {
      "text/html": [
       "<div>\n",
       "<style scoped>\n",
       "    .dataframe tbody tr th:only-of-type {\n",
       "        vertical-align: middle;\n",
       "    }\n",
       "\n",
       "    .dataframe tbody tr th {\n",
       "        vertical-align: top;\n",
       "    }\n",
       "\n",
       "    .dataframe thead th {\n",
       "        text-align: right;\n",
       "    }\n",
       "</style>\n",
       "<table border=\"1\" class=\"dataframe\">\n",
       "  <thead>\n",
       "    <tr style=\"text-align: right;\">\n",
       "      <th></th>\n",
       "      <th>id</th>\n",
       "      <th>f0</th>\n",
       "      <th>f1</th>\n",
       "      <th>f2</th>\n",
       "      <th>product</th>\n",
       "    </tr>\n",
       "  </thead>\n",
       "  <tbody>\n",
       "    <tr>\n",
       "      <th>0</th>\n",
       "      <td>fwXo0</td>\n",
       "      <td>-1.146987</td>\n",
       "      <td>0.963328</td>\n",
       "      <td>-0.828965</td>\n",
       "      <td>27.758673</td>\n",
       "    </tr>\n",
       "    <tr>\n",
       "      <th>1</th>\n",
       "      <td>WJtFt</td>\n",
       "      <td>0.262778</td>\n",
       "      <td>0.269839</td>\n",
       "      <td>-2.530187</td>\n",
       "      <td>56.069697</td>\n",
       "    </tr>\n",
       "    <tr>\n",
       "      <th>2</th>\n",
       "      <td>ovLUW</td>\n",
       "      <td>0.194587</td>\n",
       "      <td>0.289035</td>\n",
       "      <td>-5.586433</td>\n",
       "      <td>62.871910</td>\n",
       "    </tr>\n",
       "    <tr>\n",
       "      <th>3</th>\n",
       "      <td>q6cA6</td>\n",
       "      <td>2.236060</td>\n",
       "      <td>-0.553760</td>\n",
       "      <td>0.930038</td>\n",
       "      <td>114.572842</td>\n",
       "    </tr>\n",
       "    <tr>\n",
       "      <th>4</th>\n",
       "      <td>WPMUX</td>\n",
       "      <td>-0.515993</td>\n",
       "      <td>1.716266</td>\n",
       "      <td>5.899011</td>\n",
       "      <td>149.600746</td>\n",
       "    </tr>\n",
       "  </tbody>\n",
       "</table>\n",
       "</div>"
      ],
      "text/plain": [
       "      id        f0        f1        f2     product\n",
       "0  fwXo0 -1.146987  0.963328 -0.828965   27.758673\n",
       "1  WJtFt  0.262778  0.269839 -2.530187   56.069697\n",
       "2  ovLUW  0.194587  0.289035 -5.586433   62.871910\n",
       "3  q6cA6  2.236060 -0.553760  0.930038  114.572842\n",
       "4  WPMUX -0.515993  1.716266  5.899011  149.600746"
      ]
     },
     "metadata": {},
     "output_type": "display_data"
    }
   ],
   "source": [
    "##check data two\n",
    "geo_data_2 = pd.read_csv('geo_data_2.csv')\n",
    "display(geo_data_2.head())"
   ]
  },
  {
   "cell_type": "code",
   "execution_count": 7,
   "metadata": {
    "scrolled": false
   },
   "outputs": [
    {
     "name": "stdout",
     "output_type": "stream",
     "text": [
      "<class 'pandas.core.frame.DataFrame'>\n",
      "RangeIndex: 100000 entries, 0 to 99999\n",
      "Data columns (total 5 columns):\n",
      " #   Column   Non-Null Count   Dtype  \n",
      "---  ------   --------------   -----  \n",
      " 0   id       100000 non-null  object \n",
      " 1   f0       100000 non-null  float64\n",
      " 2   f1       100000 non-null  float64\n",
      " 3   f2       100000 non-null  float64\n",
      " 4   product  100000 non-null  float64\n",
      "dtypes: float64(4), object(1)\n",
      "memory usage: 3.8+ MB\n"
     ]
    },
    {
     "data": {
      "text/plain": [
       "0"
      ]
     },
     "execution_count": 7,
     "metadata": {},
     "output_type": "execute_result"
    }
   ],
   "source": [
    "geo_data_2.info()\n",
    "geo_data_2.duplicated().sum()"
   ]
  },
  {
   "cell_type": "markdown",
   "metadata": {},
   "source": [
    "### Сonclusion\n",
    "\n",
    "There are 3 files with geological prospecting data  from three regions. \n",
    "There are no duplicates or null values.\n",
    "\n",
    "100000 entries and 5 columns for all:\n",
    "\n",
    "id — inique well id \n",
    "\n",
    "f0, f1, f2 — doesn't matter what it mean, but they are important\n",
    "\n",
    "product — well reserves (thousand barrels).\n",
    "\n",
    "Important:\n",
    "- Linear regression only \n",
    "- We check 500 wells and choose 200 best.\n",
    "- Budget for region — 10 000 000 000 roubles.\n",
    "- 1 barrel = 450 roubles income.\n",
    "\n",
    "We need to find regions, where probability of losses will be less than 2.5%. After we should choose region with the highest average profit."
   ]
  },
  {
   "cell_type": "markdown",
   "metadata": {},
   "source": [
    "# 2. Research"
   ]
  },
  {
   "cell_type": "markdown",
   "metadata": {},
   "source": [
    "##### Region 0"
   ]
  },
  {
   "cell_type": "code",
   "execution_count": 8,
   "metadata": {
    "scrolled": true
   },
   "outputs": [
    {
     "data": {
      "text/plain": [
       "(100000, 3)"
      ]
     },
     "metadata": {},
     "output_type": "display_data"
    }
   ],
   "source": [
    "#features&target\n",
    "features_0 = geo_data_0.drop(['product','id'], axis=1)\n",
    "target_0 = geo_data_0['product']\n",
    "\n",
    "#numeric\n",
    "numeric = ['f0','f1','f2']\n",
    "\n",
    "scaler = StandardScaler()\n",
    "scaler.fit(features_0[numeric])\n",
    "features_0[numeric] = scaler.transform(features_0[numeric])\n",
    "display(features_0.shape)"
   ]
  },
  {
   "cell_type": "code",
   "execution_count": 9,
   "metadata": {},
   "outputs": [
    {
     "data": {
      "text/plain": [
       "(75000, 3)"
      ]
     },
     "metadata": {},
     "output_type": "display_data"
    },
    {
     "data": {
      "text/plain": [
       "(25000, 3)"
      ]
     },
     "metadata": {},
     "output_type": "display_data"
    }
   ],
   "source": [
    "#separate for two\n",
    "features_train_0, features_valid_0, target_train_0, target_valid_0 = train_test_split(\n",
    "    features_0, target_0, test_size=0.25, random_state=12345)\n",
    "\n",
    "display(features_train_0.shape)\n",
    "display(features_valid_0.shape)"
   ]
  },
  {
   "cell_type": "code",
   "execution_count": 10,
   "metadata": {},
   "outputs": [
    {
     "name": "stdout",
     "output_type": "stream",
     "text": [
      "RMSE: 37.5794217150813\n",
      "stock of raw materials: 92.59256778438038\n"
     ]
    }
   ],
   "source": [
    "#RMSE и mean stock of raw materials\n",
    "model = LinearRegression()\n",
    "model.fit(features_train_0, target_train_0)\n",
    "predictions_valid_0 = model.predict(features_valid_0)\n",
    "\n",
    "rmse_0 = (mean_squared_error(target_valid_0,predictions_valid_0))**0.5\n",
    "print('RMSE:', rmse_0)\n",
    "\n",
    "mean_product_0 = model.predict(features_valid_0).mean() \n",
    "print('stock of raw materials:', mean_product_0)"
   ]
  },
  {
   "cell_type": "markdown",
   "metadata": {},
   "source": [
    "##### Region 1"
   ]
  },
  {
   "cell_type": "code",
   "execution_count": 11,
   "metadata": {},
   "outputs": [
    {
     "data": {
      "text/plain": [
       "(100000, 3)"
      ]
     },
     "metadata": {},
     "output_type": "display_data"
    }
   ],
   "source": [
    "#features&target\n",
    "features_1 = geo_data_1.drop(['product','id'], axis=1)\n",
    "target_1 = geo_data_1['product']\n",
    "\n",
    "#numeric\n",
    "numeric = ['f0','f1','f2']\n",
    "\n",
    "scaler = StandardScaler()\n",
    "scaler.fit(features_1[numeric])\n",
    "features_1[numeric] = scaler.transform(features_1[numeric])\n",
    "display(features_1.shape)"
   ]
  },
  {
   "cell_type": "code",
   "execution_count": 12,
   "metadata": {},
   "outputs": [
    {
     "data": {
      "text/plain": [
       "(75000, 3)"
      ]
     },
     "metadata": {},
     "output_type": "display_data"
    },
    {
     "data": {
      "text/plain": [
       "(25000, 3)"
      ]
     },
     "metadata": {},
     "output_type": "display_data"
    }
   ],
   "source": [
    "#separate for two\n",
    "features_train_1, features_valid_1, target_train_1, target_valid_1 = train_test_split(\n",
    "    features_1, target_1, test_size=0.25, random_state=12345)\n",
    "\n",
    "display(features_train_1.shape)\n",
    "display(features_valid_1.shape)"
   ]
  },
  {
   "cell_type": "code",
   "execution_count": 13,
   "metadata": {},
   "outputs": [
    {
     "name": "stdout",
     "output_type": "stream",
     "text": [
      "RMSE: 0.893099286775616\n",
      "stock of raw materials: 68.72854689544602\n"
     ]
    }
   ],
   "source": [
    "#stock of raw materials\n",
    "model = LinearRegression()\n",
    "model.fit(features_train_1, target_train_1)\n",
    "predictions_valid_1 = model.predict(features_valid_1)\n",
    "\n",
    "rmse_1 = (mean_squared_error(target_valid_1,predictions_valid_1))**0.5\n",
    "print('RMSE:', rmse_1)\n",
    "\n",
    "mean_product_1 = model.predict(features_valid_1).mean() \n",
    "print('stock of raw materials:', mean_product_1)"
   ]
  },
  {
   "cell_type": "markdown",
   "metadata": {},
   "source": [
    "##### Region 2"
   ]
  },
  {
   "cell_type": "code",
   "execution_count": 14,
   "metadata": {},
   "outputs": [
    {
     "data": {
      "text/plain": [
       "(100000, 3)"
      ]
     },
     "metadata": {},
     "output_type": "display_data"
    }
   ],
   "source": [
    "#features&target\n",
    "features_2 = geo_data_2.drop(['product', 'id'], axis=1)\n",
    "target_2 = geo_data_2['product']\n",
    "\n",
    "#numeric\n",
    "numeric = ['f0','f1','f2']\n",
    "\n",
    "scaler = StandardScaler()\n",
    "scaler.fit(features_2[numeric])\n",
    "features_1[numeric] = scaler.transform(features_2[numeric])\n",
    "display(features_2.shape)"
   ]
  },
  {
   "cell_type": "code",
   "execution_count": 15,
   "metadata": {},
   "outputs": [
    {
     "data": {
      "text/plain": [
       "(75000, 3)"
      ]
     },
     "metadata": {},
     "output_type": "display_data"
    },
    {
     "data": {
      "text/plain": [
       "(25000, 3)"
      ]
     },
     "metadata": {},
     "output_type": "display_data"
    }
   ],
   "source": [
    "#separate for two\n",
    "\n",
    "features_train_2, features_valid_2, target_train_2, target_valid_2 = train_test_split(\n",
    "    features_2, target_2, test_size=0.25, random_state=12345)\n",
    "\n",
    "display(features_train_2.shape)\n",
    "display(features_valid_2.shape)"
   ]
  },
  {
   "cell_type": "code",
   "execution_count": 16,
   "metadata": {
    "scrolled": true
   },
   "outputs": [
    {
     "name": "stdout",
     "output_type": "stream",
     "text": [
      "RMSE: 40.02970873393434\n",
      "stock of raw materials: 94.96504596800489\n"
     ]
    }
   ],
   "source": [
    "#stock of raw materials\n",
    "model = LinearRegression()\n",
    "model.fit(features_train_2, target_train_2)\n",
    "predictions_valid_2 = model.predict(features_valid_2)\n",
    "\n",
    "rmse_2 = (mean_squared_error(target_valid_2,predictions_valid_2))**0.5\n",
    "print('RMSE:', rmse_2)\n",
    "\n",
    "mean_product_2 = model.predict(features_valid_2).mean() \n",
    "print('stock of raw materials:', mean_product_2)"
   ]
  },
  {
   "cell_type": "code",
   "execution_count": 17,
   "metadata": {},
   "outputs": [
    {
     "data": {
      "text/html": [
       "<div>\n",
       "<style scoped>\n",
       "    .dataframe tbody tr th:only-of-type {\n",
       "        vertical-align: middle;\n",
       "    }\n",
       "\n",
       "    .dataframe tbody tr th {\n",
       "        vertical-align: top;\n",
       "    }\n",
       "\n",
       "    .dataframe thead th {\n",
       "        text-align: right;\n",
       "    }\n",
       "</style>\n",
       "<table border=\"1\" class=\"dataframe\">\n",
       "  <thead>\n",
       "    <tr style=\"text-align: right;\">\n",
       "      <th></th>\n",
       "      <th>geo_data</th>\n",
       "      <th>rmse</th>\n",
       "      <th>mean product</th>\n",
       "    </tr>\n",
       "  </thead>\n",
       "  <tbody>\n",
       "    <tr>\n",
       "      <th>0</th>\n",
       "      <td>geo_data_0</td>\n",
       "      <td>37.579422</td>\n",
       "      <td>92.592568</td>\n",
       "    </tr>\n",
       "    <tr>\n",
       "      <th>1</th>\n",
       "      <td>geo_data_1</td>\n",
       "      <td>0.893099</td>\n",
       "      <td>68.728547</td>\n",
       "    </tr>\n",
       "    <tr>\n",
       "      <th>2</th>\n",
       "      <td>geo_data_2</td>\n",
       "      <td>40.029709</td>\n",
       "      <td>94.965046</td>\n",
       "    </tr>\n",
       "  </tbody>\n",
       "</table>\n",
       "</div>"
      ],
      "text/plain": [
       "     geo_data       rmse  mean product\n",
       "0  geo_data_0  37.579422     92.592568\n",
       "1  geo_data_1   0.893099     68.728547\n",
       "2  geo_data_2  40.029709     94.965046"
      ]
     },
     "metadata": {},
     "output_type": "display_data"
    }
   ],
   "source": [
    "#compare data\n",
    "rmse_mean_geo = pd.DataFrame({'geo_data':['geo_data_0','geo_data_1','geo_data_2'], 'rmse':[rmse_0, rmse_1, rmse_2], 'mean product':[mean_product_0,mean_product_1,mean_product_2]})\n",
    "\n",
    "display(rmse_mean_geo)"
   ]
  },
  {
   "cell_type": "markdown",
   "metadata": {},
   "source": [
    "### Сonclusion\n",
    "\n",
    "For three:\n",
    "- delete id column\n",
    "- all data started from 0\n",
    "- train/valid and numeric for all\n",
    "- rmse and stock of raw materials for all\n",
    "\n",
    "Now regions geo_data_2 and geo_data_0 are best, because they have highest mean product. \n",
    "But region geo_data_1 has lowest rmse.\n",
    "We need to think."
   ]
  },
  {
   "cell_type": "markdown",
   "metadata": {},
   "source": [
    "# 3. Prepare for profit"
   ]
  },
  {
   "cell_type": "code",
   "execution_count": 18,
   "metadata": {},
   "outputs": [],
   "source": [
    "#for all 3 fields\n",
    "budget_region = 10000000000 #budget for region\n",
    "budget_slit = budget_region / 200 #budget for slit\n",
    "income_barrel = 450 #income from barrel\n",
    "income_one = 450000 #income from 1000 barrels\n",
    "volume = budget_slit / income_one #the volume of raw materials for the break-even development of a new well"
   ]
  },
  {
   "cell_type": "code",
   "execution_count": 19,
   "metadata": {},
   "outputs": [
    {
     "name": "stdout",
     "output_type": "stream",
     "text": [
      "mean of raw material in region  0: 92.49999999999976\n",
      "mean of raw material in region  1: 68.82500000002561\n",
      "mean of raw material in region  2: 95.00000000000041\n",
      "volume of raw materials for the break-even development of a new well: 111.11111111111111\n"
     ]
    }
   ],
   "source": [
    "#mean of raw material in region \n",
    "mean_product_0 = geo_data_0['product'].mean()\n",
    "print('mean of raw material in region  0:',mean_product_0)\n",
    "\n",
    "mean_product_1 = geo_data_1['product'].mean()\n",
    "print('mean of raw material in region  1:',mean_product_1)\n",
    "\n",
    "mean_product_2 = geo_data_2['product'].mean()\n",
    "print('mean of raw material in region  2:',mean_product_2)\n",
    "\n",
    "print('volume of raw materials for the break-even development of a new well:', volume)"
   ]
  },
  {
   "cell_type": "markdown",
   "metadata": {},
   "source": [
    "### Сonclusion\n",
    "\n",
    "The volume of raw materials for the break-even development of a new well is slightly higher than the average stock of raw materials.\n",
    "\n",
    "But this is only an average stock, so we still have only 2 priorityregions: geo_data_0 and geo_data_2. \n",
    "\n",
    "Let's see what's next."
   ]
  },
  {
   "cell_type": "markdown",
   "metadata": {},
   "source": [
    "# 4. Function for profit and loss"
   ]
  },
  {
   "cell_type": "markdown",
   "metadata": {},
   "source": [
    "#### Region 0"
   ]
  },
  {
   "cell_type": "code",
   "execution_count": 20,
   "metadata": {
    "scrolled": false
   },
   "outputs": [
    {
     "data": {
      "text/html": [
       "<div>\n",
       "<style scoped>\n",
       "    .dataframe tbody tr th:only-of-type {\n",
       "        vertical-align: middle;\n",
       "    }\n",
       "\n",
       "    .dataframe tbody tr th {\n",
       "        vertical-align: top;\n",
       "    }\n",
       "\n",
       "    .dataframe thead th {\n",
       "        text-align: right;\n",
       "    }\n",
       "</style>\n",
       "<table border=\"1\" class=\"dataframe\">\n",
       "  <thead>\n",
       "    <tr style=\"text-align: right;\">\n",
       "      <th></th>\n",
       "      <th>id</th>\n",
       "      <th>f0</th>\n",
       "      <th>f1</th>\n",
       "      <th>f2</th>\n",
       "      <th>product</th>\n",
       "      <th>predict_product</th>\n",
       "    </tr>\n",
       "  </thead>\n",
       "  <tbody>\n",
       "    <tr>\n",
       "      <th>0</th>\n",
       "      <td>txEyH</td>\n",
       "      <td>0.705745</td>\n",
       "      <td>-0.497823</td>\n",
       "      <td>1.221170</td>\n",
       "      <td>105.280062</td>\n",
       "      <td>78.593786</td>\n",
       "    </tr>\n",
       "    <tr>\n",
       "      <th>1</th>\n",
       "      <td>2acmU</td>\n",
       "      <td>1.334711</td>\n",
       "      <td>-0.340164</td>\n",
       "      <td>4.365080</td>\n",
       "      <td>73.037750</td>\n",
       "      <td>84.128220</td>\n",
       "    </tr>\n",
       "    <tr>\n",
       "      <th>2</th>\n",
       "      <td>409Wp</td>\n",
       "      <td>1.022732</td>\n",
       "      <td>0.151990</td>\n",
       "      <td>1.419926</td>\n",
       "      <td>85.265647</td>\n",
       "      <td>78.900387</td>\n",
       "    </tr>\n",
       "    <tr>\n",
       "      <th>3</th>\n",
       "      <td>iJLyR</td>\n",
       "      <td>-0.032172</td>\n",
       "      <td>0.139033</td>\n",
       "      <td>2.978566</td>\n",
       "      <td>168.620776</td>\n",
       "      <td>81.603233</td>\n",
       "    </tr>\n",
       "    <tr>\n",
       "      <th>4</th>\n",
       "      <td>Xdl7t</td>\n",
       "      <td>1.988431</td>\n",
       "      <td>0.155413</td>\n",
       "      <td>4.751769</td>\n",
       "      <td>154.036647</td>\n",
       "      <td>84.789854</td>\n",
       "    </tr>\n",
       "  </tbody>\n",
       "</table>\n",
       "</div>"
      ],
      "text/plain": [
       "      id        f0        f1        f2     product  predict_product\n",
       "0  txEyH  0.705745 -0.497823  1.221170  105.280062        78.593786\n",
       "1  2acmU  1.334711 -0.340164  4.365080   73.037750        84.128220\n",
       "2  409Wp  1.022732  0.151990  1.419926   85.265647        78.900387\n",
       "3  iJLyR -0.032172  0.139033  2.978566  168.620776        81.603233\n",
       "4  Xdl7t  1.988431  0.155413  4.751769  154.036647        84.789854"
      ]
     },
     "metadata": {},
     "output_type": "display_data"
    }
   ],
   "source": [
    "#column for predict\n",
    "predict_prod_0 = pd.Series(model.predict(features_0))\n",
    "geo_data_0['predict_product'] = predict_prod_0\n",
    "display(geo_data_0.head())"
   ]
  },
  {
   "cell_type": "code",
   "execution_count": 21,
   "metadata": {},
   "outputs": [],
   "source": [
    "#function for profit\n",
    "def profit(target_0, features_0):\n",
    "    features_sorted = features_0.sort_values(ascending=False)\n",
    "    selected_points = target_0[features_sorted.index][:200]\n",
    "    product = selected_points.sum()\n",
    "    prof = product * income_one\n",
    "    cost = budget_slit * 200\n",
    "    return prof - cost"
   ]
  },
  {
   "cell_type": "code",
   "execution_count": 22,
   "metadata": {},
   "outputs": [
    {
     "name": "stdout",
     "output_type": "stream",
     "text": [
      "profit: 425938526.910592\n",
      "95% confidence interval: (-102090094.83793654, 947976353.358369)\n",
      "risk in region 0:  6.0 %\n"
     ]
    }
   ],
   "source": [
    "#value select\n",
    "state = np.random.RandomState(12345)   \n",
    "tar_0  = target_valid_0.reset_index(drop=True)\n",
    "pred_0 = pd.Series(predictions_valid_0)\n",
    "profit_values_0 = []\n",
    "\n",
    "for i in range(1000):\n",
    "        target_sample = tar_0.sample(500, replace=True, random_state=state)\n",
    "        features_sample = pred_0[target_sample.index]\n",
    "        profit_values_0.append(profit(target_sample, features_sample))\n",
    "profit_values_0 = pd.Series(profit_values_0)\n",
    "\n",
    "mean_0 = profit_values_0.mean()\n",
    "\n",
    "#confidence interval\n",
    "confidence_interval_0 = (profit_values_0.quantile(0.025), profit_values_0.quantile(0.975))\n",
    "\n",
    "#risk\n",
    "risk_0= ((profit_values_0 < 0).mean()* 100)\n",
    "\n",
    "print(\"profit:\", mean_0)\n",
    "print(\"95% confidence interval:\", confidence_interval_0)\n",
    "print(\"risk in region 0: \", round(risk_0,2),\"%\")"
   ]
  },
  {
   "cell_type": "markdown",
   "metadata": {},
   "source": [
    "#### Region 1"
   ]
  },
  {
   "cell_type": "code",
   "execution_count": 23,
   "metadata": {
    "scrolled": false
   },
   "outputs": [
    {
     "data": {
      "text/html": [
       "<div>\n",
       "<style scoped>\n",
       "    .dataframe tbody tr th:only-of-type {\n",
       "        vertical-align: middle;\n",
       "    }\n",
       "\n",
       "    .dataframe tbody tr th {\n",
       "        vertical-align: top;\n",
       "    }\n",
       "\n",
       "    .dataframe thead th {\n",
       "        text-align: right;\n",
       "    }\n",
       "</style>\n",
       "<table border=\"1\" class=\"dataframe\">\n",
       "  <thead>\n",
       "    <tr style=\"text-align: right;\">\n",
       "      <th></th>\n",
       "      <th>id</th>\n",
       "      <th>f0</th>\n",
       "      <th>f1</th>\n",
       "      <th>f2</th>\n",
       "      <th>product</th>\n",
       "      <th>predict_product</th>\n",
       "    </tr>\n",
       "  </thead>\n",
       "  <tbody>\n",
       "    <tr>\n",
       "      <th>0</th>\n",
       "      <td>kBEdx</td>\n",
       "      <td>-15.001348</td>\n",
       "      <td>-8.276000</td>\n",
       "      <td>-0.005876</td>\n",
       "      <td>3.179103</td>\n",
       "      <td>75.269514</td>\n",
       "    </tr>\n",
       "    <tr>\n",
       "      <th>1</th>\n",
       "      <td>62mP7</td>\n",
       "      <td>14.272088</td>\n",
       "      <td>-3.475083</td>\n",
       "      <td>0.999183</td>\n",
       "      <td>26.953261</td>\n",
       "      <td>72.515536</td>\n",
       "    </tr>\n",
       "    <tr>\n",
       "      <th>2</th>\n",
       "      <td>vyE1P</td>\n",
       "      <td>6.263187</td>\n",
       "      <td>-5.948386</td>\n",
       "      <td>5.001160</td>\n",
       "      <td>134.766305</td>\n",
       "      <td>67.490944</td>\n",
       "    </tr>\n",
       "    <tr>\n",
       "      <th>3</th>\n",
       "      <td>KcrkZ</td>\n",
       "      <td>-13.081196</td>\n",
       "      <td>-11.506057</td>\n",
       "      <td>4.999415</td>\n",
       "      <td>137.945408</td>\n",
       "      <td>78.257555</td>\n",
       "    </tr>\n",
       "    <tr>\n",
       "      <th>4</th>\n",
       "      <td>AHL4O</td>\n",
       "      <td>12.702195</td>\n",
       "      <td>-8.147433</td>\n",
       "      <td>5.004363</td>\n",
       "      <td>134.766305</td>\n",
       "      <td>86.319923</td>\n",
       "    </tr>\n",
       "  </tbody>\n",
       "</table>\n",
       "</div>"
      ],
      "text/plain": [
       "      id         f0         f1        f2     product  predict_product\n",
       "0  kBEdx -15.001348  -8.276000 -0.005876    3.179103        75.269514\n",
       "1  62mP7  14.272088  -3.475083  0.999183   26.953261        72.515536\n",
       "2  vyE1P   6.263187  -5.948386  5.001160  134.766305        67.490944\n",
       "3  KcrkZ -13.081196 -11.506057  4.999415  137.945408        78.257555\n",
       "4  AHL4O  12.702195  -8.147433  5.004363  134.766305        86.319923"
      ]
     },
     "metadata": {},
     "output_type": "display_data"
    }
   ],
   "source": [
    "#column for predict\n",
    "predict_prod_1 = pd.Series(model.predict(features_1))\n",
    "geo_data_1['predict_product'] = predict_prod_1\n",
    "display(geo_data_1.head())"
   ]
  },
  {
   "cell_type": "code",
   "execution_count": 24,
   "metadata": {},
   "outputs": [
    {
     "name": "stdout",
     "output_type": "stream",
     "text": [
      "profit: 515222773.44329005\n",
      "95% confidence interval: (68873225.37050177, 931547591.2570496)\n",
      "risk in region 1:  1.0 %\n"
     ]
    }
   ],
   "source": [
    "#function for profit\n",
    "def profit(target_1, features_1):\n",
    "    features_sorted = features_1.sort_values(ascending=False)\n",
    "    selected_points = target_1[features_sorted.index][:200]\n",
    "    product = selected_points.sum()\n",
    "    prof = product * income_one\n",
    "    cost = budget_slit * 200\n",
    "    return prof - cost\n",
    "\n",
    "#value select\n",
    "state = np.random.RandomState(12345)   \n",
    "tar_1  = target_valid_1.reset_index(drop=True)\n",
    "pred_1 = pd.Series(predictions_valid_1)\n",
    "profit_values_1 = []\n",
    "\n",
    "for i in range(1000):\n",
    "        target_sample = tar_1.sample(500, replace=True, random_state=state)\n",
    "        features_sample = pred_1[target_sample.index]\n",
    "        profit_values_1.append(profit(target_sample, features_sample))\n",
    "profit_values_1 = pd.Series(profit_values_1)\n",
    "mean_1 = profit_values_1.mean()\n",
    "\n",
    "print(\"profit:\", mean_1)\n",
    "\n",
    "confidence_interval_1 = (profit_values_1.quantile(0.025), profit_values_1.quantile(0.975))\n",
    "risk_1= ((profit_values_1 < 0).mean()* 100)\n",
    "\n",
    "print(\"95% confidence interval:\", confidence_interval_1)\n",
    "print(\"risk in region 1: \", round(risk_1,2),\"%\")"
   ]
  },
  {
   "cell_type": "markdown",
   "metadata": {},
   "source": [
    "#### Region 2"
   ]
  },
  {
   "cell_type": "code",
   "execution_count": 25,
   "metadata": {
    "scrolled": true
   },
   "outputs": [
    {
     "data": {
      "text/html": [
       "<div>\n",
       "<style scoped>\n",
       "    .dataframe tbody tr th:only-of-type {\n",
       "        vertical-align: middle;\n",
       "    }\n",
       "\n",
       "    .dataframe tbody tr th {\n",
       "        vertical-align: top;\n",
       "    }\n",
       "\n",
       "    .dataframe thead th {\n",
       "        text-align: right;\n",
       "    }\n",
       "</style>\n",
       "<table border=\"1\" class=\"dataframe\">\n",
       "  <thead>\n",
       "    <tr style=\"text-align: right;\">\n",
       "      <th></th>\n",
       "      <th>id</th>\n",
       "      <th>f0</th>\n",
       "      <th>f1</th>\n",
       "      <th>f2</th>\n",
       "      <th>product</th>\n",
       "      <th>predict_product</th>\n",
       "    </tr>\n",
       "  </thead>\n",
       "  <tbody>\n",
       "    <tr>\n",
       "      <th>0</th>\n",
       "      <td>fwXo0</td>\n",
       "      <td>-1.146987</td>\n",
       "      <td>0.963328</td>\n",
       "      <td>-0.828965</td>\n",
       "      <td>27.758673</td>\n",
       "      <td>75.968506</td>\n",
       "    </tr>\n",
       "    <tr>\n",
       "      <th>1</th>\n",
       "      <td>WJtFt</td>\n",
       "      <td>0.262778</td>\n",
       "      <td>0.269839</td>\n",
       "      <td>-2.530187</td>\n",
       "      <td>56.069697</td>\n",
       "      <td>66.329664</td>\n",
       "    </tr>\n",
       "    <tr>\n",
       "      <th>2</th>\n",
       "      <td>ovLUW</td>\n",
       "      <td>0.194587</td>\n",
       "      <td>0.289035</td>\n",
       "      <td>-5.586433</td>\n",
       "      <td>62.871910</td>\n",
       "      <td>48.880039</td>\n",
       "    </tr>\n",
       "    <tr>\n",
       "      <th>3</th>\n",
       "      <td>q6cA6</td>\n",
       "      <td>2.236060</td>\n",
       "      <td>-0.553760</td>\n",
       "      <td>0.930038</td>\n",
       "      <td>114.572842</td>\n",
       "      <td>86.178035</td>\n",
       "    </tr>\n",
       "    <tr>\n",
       "      <th>4</th>\n",
       "      <td>WPMUX</td>\n",
       "      <td>-0.515993</td>\n",
       "      <td>1.716266</td>\n",
       "      <td>5.899011</td>\n",
       "      <td>149.600746</td>\n",
       "      <td>114.363434</td>\n",
       "    </tr>\n",
       "  </tbody>\n",
       "</table>\n",
       "</div>"
      ],
      "text/plain": [
       "      id        f0        f1        f2     product  predict_product\n",
       "0  fwXo0 -1.146987  0.963328 -0.828965   27.758673        75.968506\n",
       "1  WJtFt  0.262778  0.269839 -2.530187   56.069697        66.329664\n",
       "2  ovLUW  0.194587  0.289035 -5.586433   62.871910        48.880039\n",
       "3  q6cA6  2.236060 -0.553760  0.930038  114.572842        86.178035\n",
       "4  WPMUX -0.515993  1.716266  5.899011  149.600746       114.363434"
      ]
     },
     "metadata": {},
     "output_type": "display_data"
    }
   ],
   "source": [
    "#column for predict\n",
    "predict_prod_2 = pd.Series(model.predict(features_2))\n",
    "geo_data_2['predict_product'] = predict_prod_2\n",
    "display(geo_data_2.head())"
   ]
  },
  {
   "cell_type": "code",
   "execution_count": 26,
   "metadata": {},
   "outputs": [
    {
     "name": "stdout",
     "output_type": "stream",
     "text": [
      "profit: 435008362.78275585\n",
      "95% confidence interval: (-128880547.32978901, 969706954.1802679)\n",
      "risk in region 2:  6.4 %\n"
     ]
    }
   ],
   "source": [
    "#function for profit\n",
    "def profit(target_2, features_2):\n",
    "    features_sorted = features_2.sort_values(ascending=False)\n",
    "    selected_points = target_2[features_sorted.index][:200]\n",
    "    product = selected_points.sum()\n",
    "    prof = product * income_one\n",
    "    cost = budget_slit * 200\n",
    "    return prof - cost\n",
    "\n",
    "\n",
    "state = np.random.RandomState(12345)   \n",
    "tar_2  = target_valid_2.reset_index(drop=True)\n",
    "pred_2 = pd.Series(predictions_valid_2)\n",
    "profit_values_2 = []\n",
    "\n",
    "for i in range(1000):\n",
    "        target_sample = tar_2.sample(500, replace=True, random_state=state)\n",
    "        features_sample = pred_2[target_sample.index]\n",
    "        profit_values_2.append(profit(target_sample, features_sample))\n",
    "profit_values_2 = pd.Series(profit_values_2)\n",
    "mean_2 = profit_values_2.mean()\n",
    "\n",
    "print(\"profit:\", mean_2)\n",
    "\n",
    "confidence_interval_2 = (profit_values_2.quantile(0.025), profit_values_2.quantile(0.975))\n",
    "risk_2= ((profit_values_2 < 0).mean()* 100)\n",
    "\n",
    "print(\"95% confidence interval:\", confidence_interval_2)\n",
    "print(\"risk in region 2: \", round(risk_2,2),\"%\")"
   ]
  },
  {
   "cell_type": "markdown",
   "metadata": {},
   "source": [
    "# Final conclusion\n",
    "\n",
    "So, here we should choose region 1.\n",
    "Yes, it doesn't win in previous calculations, but it has only 1% risk!\n",
    "\n",
    "Yes, profit(515222773) is not so big, but we think about future."
   ]
  }
 ],
 "metadata": {
  "kernelspec": {
   "display_name": "Python 3",
   "language": "python",
   "name": "python3"
  },
  "language_info": {
   "codemirror_mode": {
    "name": "ipython",
    "version": 3
   },
   "file_extension": ".py",
   "mimetype": "text/x-python",
   "name": "python",
   "nbconvert_exporter": "python",
   "pygments_lexer": "ipython3",
   "version": "3.7.4"
  }
 },
 "nbformat": 4,
 "nbformat_minor": 2
}
